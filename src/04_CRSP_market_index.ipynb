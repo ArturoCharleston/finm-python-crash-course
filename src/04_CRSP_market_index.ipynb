{
 "cells": [
  {
   "cell_type": "markdown",
   "metadata": {},
   "source": [
    "# 4.3 CRSP Market Returns Indices\n",
    "\n",
    "The CRSP (Center for Research in Security Prices) dataset provides two indices\n",
    "for market returns: an equal-weighted index and a value-weighted index (both provided\n",
    "in terms of returns with and without dividends). The equal-weighted index\n",
    "computes the simple average of returns across stocks. This series is available as `EWRETD` and `EWRETX`, (with and without dividends, respectively).\n",
    "The value-Weighted Returns index represents a stock market index that calculates the return on investment by considering both the price changes and dividends of each component security, weighted by its market capitalization. This means that larger companies have a greater impact on the index's performance compared to smaller companies. The value-weighting approach aims to reflect the actual investment returns that an investor would achieve by holding a market portfolio, mirroring the performance of the overall market or specific market segments more accurately than equal-weighted indices. The CRSP indices are widely used in academic research and financial analysis to study market trends, evaluate investment strategies, and benchmark the performance of portfolios against the broader market. This series is available in the CRSP tables under the mnemonic `VWRETD` and `VWRETX` (with and without dividends, respectively).\n",
    "\n",
    "In this guide, we'll discuss the construction of the equal- and value-weighted market return indices. To construct these indices, we'll follow the suggestions here: https://wrds-www.wharton.upenn.edu/pages/support/support-articles/crsp/index-and-deciles/constructing-value-weighted-return-series-matches-vwretd-crsp-monthly-value-weighted-returns-includes-distributions/\n",
    "\n",
    "These suggestions boil down to the most important part: we must select the correct universe of stocks that comprise \"the market\"."
   ]
  },
  {
   "cell_type": "code",
   "execution_count": 10,
   "metadata": {},
   "outputs": [
    {
     "name": "stdout",
     "output_type": "stream",
     "text": [
      "The autoreload extension is already loaded. To reload it, use:\n",
      "  %reload_ext autoreload\n"
     ]
    }
   ],
   "source": [
    "# Why might these commands be helpful?\n",
    "%load_ext autoreload\n",
    "%autoreload 2"
   ]
  },
  {
   "cell_type": "code",
   "execution_count": 11,
   "metadata": {},
   "outputs": [],
   "source": [
    "import pandas as pd\n",
    "\n",
    "import config\n",
    "import load_CRSP_stock\n",
    "import calc_CRSP_indices\n",
    "import misc_tools\n",
    "\n",
    "DATA_DIR = config.DATA_DIR"
   ]
  },
  {
   "cell_type": "code",
   "execution_count": 12,
   "metadata": {},
   "outputs": [],
   "source": [
    "df_msf = load_CRSP_stock.load_CRSP_monthly_file(data_dir=DATA_DIR)\n",
    "df_msix = load_CRSP_stock.load_CRSP_index_files(data_dir=DATA_DIR)"
   ]
  },
  {
   "cell_type": "code",
   "execution_count": 13,
   "metadata": {},
   "outputs": [
    {
     "name": "stdout",
     "output_type": "stream",
     "text": [
      "<class 'pandas.core.frame.DataFrame'>\n",
      "RangeIndex: 1174 entries, 0 to 1173\n",
      "Data columns (total 35 columns):\n",
      " #   Column    Non-Null Count  Dtype         \n",
      "---  ------    --------------  -----         \n",
      " 0   caldt     1174 non-null   datetime64[ns]\n",
      " 1   vwretd    1173 non-null   float64       \n",
      " 2   vwindd    1174 non-null   float64       \n",
      " 3   vwretx    1173 non-null   float64       \n",
      " 4   vwindx    1174 non-null   float64       \n",
      " 5   ewretd    1173 non-null   float64       \n",
      " 6   ewindd    1174 non-null   float64       \n",
      " 7   ewretx    1173 non-null   float64       \n",
      " 8   ewindx    1174 non-null   float64       \n",
      " 9   sprtrn    1173 non-null   float64       \n",
      " 10  spindx    1174 non-null   float64       \n",
      " 11  decret1   1173 non-null   float64       \n",
      " 12  decind1   1174 non-null   float64       \n",
      " 13  decret2   1173 non-null   float64       \n",
      " 14  decind2   1174 non-null   float64       \n",
      " 15  decret3   1173 non-null   float64       \n",
      " 16  decind3   1174 non-null   float64       \n",
      " 17  decret4   1173 non-null   float64       \n",
      " 18  decind4   1174 non-null   float64       \n",
      " 19  decret5   1173 non-null   float64       \n",
      " 20  decind5   1174 non-null   float64       \n",
      " 21  decret6   1173 non-null   float64       \n",
      " 22  decind6   1174 non-null   float64       \n",
      " 23  decret7   1173 non-null   float64       \n",
      " 24  decind7   1174 non-null   float64       \n",
      " 25  decret8   1173 non-null   float64       \n",
      " 26  decind8   1174 non-null   float64       \n",
      " 27  decret9   1173 non-null   float64       \n",
      " 28  decind9   1174 non-null   float64       \n",
      " 29  decret10  1173 non-null   float64       \n",
      " 30  decind10  1174 non-null   float64       \n",
      " 31  totval    1174 non-null   float64       \n",
      " 32  totcnt    1174 non-null   int64         \n",
      " 33  usdval    1173 non-null   float64       \n",
      " 34  usdcnt    1173 non-null   float64       \n",
      "dtypes: datetime64[ns](1), float64(33), int64(1)\n",
      "memory usage: 321.1 KB\n"
     ]
    }
   ],
   "source": [
    "df_msix.info()"
   ]
  },
  {
   "cell_type": "code",
   "execution_count": 14,
   "metadata": {},
   "outputs": [
    {
     "data": {
      "text/html": [
       "<div>\n",
       "<style scoped>\n",
       "    .dataframe tbody tr th:only-of-type {\n",
       "        vertical-align: middle;\n",
       "    }\n",
       "\n",
       "    .dataframe tbody tr th {\n",
       "        vertical-align: top;\n",
       "    }\n",
       "\n",
       "    .dataframe thead th {\n",
       "        text-align: right;\n",
       "    }\n",
       "</style>\n",
       "<table border=\"1\" class=\"dataframe\">\n",
       "  <thead>\n",
       "    <tr style=\"text-align: right;\">\n",
       "      <th></th>\n",
       "      <th>caldt</th>\n",
       "      <th>vwretd</th>\n",
       "      <th>vwretx</th>\n",
       "      <th>vwindx</th>\n",
       "      <th>ewretd</th>\n",
       "      <th>ewretx</th>\n",
       "    </tr>\n",
       "  </thead>\n",
       "  <tbody>\n",
       "    <tr>\n",
       "      <th>1169</th>\n",
       "      <td>2023-05-31</td>\n",
       "      <td>0.002027</td>\n",
       "      <td>0.000129</td>\n",
       "      <td>3222.812</td>\n",
       "      <td>-0.006612</td>\n",
       "      <td>-0.008389</td>\n",
       "    </tr>\n",
       "    <tr>\n",
       "      <th>1170</th>\n",
       "      <td>2023-06-30</td>\n",
       "      <td>0.067583</td>\n",
       "      <td>0.066073</td>\n",
       "      <td>3435.752</td>\n",
       "      <td>0.054809</td>\n",
       "      <td>0.052556</td>\n",
       "    </tr>\n",
       "    <tr>\n",
       "      <th>1171</th>\n",
       "      <td>2023-07-31</td>\n",
       "      <td>0.035849</td>\n",
       "      <td>0.034858</td>\n",
       "      <td>3555.517</td>\n",
       "      <td>0.046141</td>\n",
       "      <td>0.045216</td>\n",
       "    </tr>\n",
       "    <tr>\n",
       "      <th>1172</th>\n",
       "      <td>2023-08-31</td>\n",
       "      <td>-0.020300</td>\n",
       "      <td>-0.022082</td>\n",
       "      <td>3477.003</td>\n",
       "      <td>-0.060090</td>\n",
       "      <td>-0.061725</td>\n",
       "    </tr>\n",
       "    <tr>\n",
       "      <th>1173</th>\n",
       "      <td>2023-09-29</td>\n",
       "      <td>-0.048003</td>\n",
       "      <td>-0.049226</td>\n",
       "      <td>3305.845</td>\n",
       "      <td>-0.061929</td>\n",
       "      <td>-0.063713</td>\n",
       "    </tr>\n",
       "  </tbody>\n",
       "</table>\n",
       "</div>"
      ],
      "text/plain": [
       "          caldt    vwretd    vwretx    vwindx    ewretd    ewretx\n",
       "1169 2023-05-31  0.002027  0.000129  3222.812 -0.006612 -0.008389\n",
       "1170 2023-06-30  0.067583  0.066073  3435.752  0.054809  0.052556\n",
       "1171 2023-07-31  0.035849  0.034858  3555.517  0.046141  0.045216\n",
       "1172 2023-08-31 -0.020300 -0.022082  3477.003 -0.060090 -0.061725\n",
       "1173 2023-09-29 -0.048003 -0.049226  3305.845 -0.061929 -0.063713"
      ]
     },
     "execution_count": 14,
     "metadata": {},
     "output_type": "execute_result"
    }
   ],
   "source": [
    "df_msix[[\n",
    "    \"caldt\",\n",
    "    \"vwretd\",\n",
    "    \"vwretx\",\n",
    "    \"vwindx\",\n",
    "    \"ewretd\",\n",
    "    \"ewretx\",]].tail()"
   ]
  },
  {
   "cell_type": "markdown",
   "metadata": {},
   "source": [
    "## Inclusion into the CRSP Market Index:\n",
    "\n",
    "From  https://wrds-www.wharton.upenn.edu/pages/support/support-articles/crsp/index-and-deciles/constructing-value-weighted-return-series-matches-vwretd-crsp-monthly-value-weighted-returns-includes-distributions/ ,\n",
    "\n",
    "\n",
    "> Our experiments with different VWRETD replication methods show that it is relatively easy to come close to this data series using PERMNO-based returns in the CRSP datasets, but exact matches to every data month is not possible because we do not know the exact sample set of PERMNOs used by CRSP.  Their criteria is listed in the CRSP manual and is roughly:\n",
    "> \n",
    "> **CRSP CAP-BASED PORTFOLIOS** -- The following types of securities, listed on NYSE, AMEX, and Nasdaq National Market, are eligible for inclusion in the Cap-Based Indices:\n",
    ">\n",
    "> - Common Stocks\n",
    "> - Certificates\n",
    "> - Shares of Beneficial Interest\n",
    "> - Units (Depository Units, Units of Beneficial Interest, Units of Limited Partnership Interest, Depository Receipts, etc.)\n",
    "> \n",
    "> The following types of securities are NOT eligible for inclusion in the Cap-Based Indices:\n",
    ">\n",
    "> - ADRs\n",
    "> - Closed-End Mutual Funds, WEBS Index Funds, Unit Investment Trusts\n",
    "> - All Common Stocks with non-US Incorporation\n",
    "> - Americus Trust Components\n",
    "> - HOLDRs Trusts\n",
    "> - REITs (Real Estate Investment Trusts)\n",
    "> - Rights and Warrants\n",
    "> - Preferred stock\n",
    "> - \"Packaged\" Units (Common Stocks Bundled with Rights or Warrants)\n",
    "> - Over-the-Counter Bulletin Board Issues\n",
    "> - N.B. The Cap-Based Indices do include returns from time ranges during which eligible securities trade on \"leading prices\" or \"reorganization\" when-issued status. The Cap-Based Indices do NOT include returns from time ranges during which eligible securities trade on \"ex-distribution\" or \"additional\" when-issued status.\n",
    "> \n",
    "> Note that VWRETD is not computed by WRDS but provided directly by CRSP along with the PERMNO based returns. For general SAS coding help for this problem see the WRDS Research Application: Portfolios by Size and Book-to-Market. This WRDS Support document provides examples of cap-based decile breakdowns, but the same general principles apply to the total market index.\n",
    "\n",
    "I've provided code for you that will take care of this subsetting in the function `pull_CRSP_monthly_file`:\n",
    "```\n",
    "    SELECT \n",
    "        date,\n",
    "        msf.permno, msf.permco, shrcd, exchcd, comnam, shrcls, \n",
    "        ret, retx, dlret, dlretx, dlstcd,\n",
    "        prc, altprc, vol, shrout, cfacshr, cfacpr,\n",
    "        naics, siccd\n",
    "    FROM crsp.msf AS msf\n",
    "    LEFT JOIN \n",
    "        crsp.msenames as msenames\n",
    "    ON \n",
    "        msf.permno = msenames.permno AND\n",
    "        msenames.namedt <= msf.date AND\n",
    "        msf.date <= msenames.nameendt\n",
    "    LEFT JOIN \n",
    "        crsp.msedelist as msedelist\n",
    "    ON \n",
    "        msf.permno = msedelist.permno AND\n",
    "        date_trunc('month', msf.date)::date =\n",
    "        date_trunc('month', msedelist.dlstdt)::date\n",
    "    WHERE \n",
    "        msf.date BETWEEN '{start_date}' AND '{end_date}' AND \n",
    "        msenames.shrcd IN (10, 11, 20, 21, 40, 41, 70, 71, 73)\n",
    "```\n",
    "To best understand this, please look up `shrcd` in the Data Manual here: https://wrds-www.wharton.upenn.edu/documents/396/CRSP_US_Stock_Indices_Data_Descriptions.pdf . You'll find the information on p. 81."
   ]
  },
  {
   "cell_type": "markdown",
   "metadata": {},
   "source": [
    "## Calculation of Equal-Weighted Returns and Value-Weighted Returns\n",
    "\n",
    "With the proper universe of stocks in hand, all that is left is to group the returns by `permno` (the identifier of choice here) and average. However, the equal weighted average is a mere simple average. To calculate the value-weighted average, we need to calculate the *lagged* market cap of each stock $i$ at time $t$.\n",
    "\n",
    "That is, the value-weighted return is given by the following formula:\n",
    "\n",
    "$$\n",
    "r_t = \\frac{\\sum_{i=1}^{N_t} w_{i,t-1} \\, r_{i,t}}{\\sum_{i=1}^{N_t} w_{i,t-1}}\n",
    "$$\n",
    "\n",
    "where $w_{i,t-1}$ is the market capitalization of stock $i$ at time $t-1$ and\n",
    "$r_t$ can be the returns with dividends `ret` or the returns without dividends `retx`.\n",
    "The market capitalization of a stock is its price times the shares outstanding,\n",
    "$$\n",
    "w_{it} = \\text{SHROUT}_{it} \\times \\text{PRC}_{it}.\n",
    "$$"
   ]
  },
  {
   "cell_type": "code",
   "execution_count": 15,
   "metadata": {},
   "outputs": [
    {
     "ename": "",
     "evalue": "",
     "output_type": "error",
     "traceback": [
      "\u001b[1;31mThe Kernel crashed while executing code in the current cell or a previous cell. \n",
      "\u001b[1;31mPlease review the code in the cell(s) to identify a possible cause of the failure. \n",
      "\u001b[1;31mClick <a href='https://aka.ms/vscodeJupyterKernelCrash'>here</a> for more info. \n",
      "\u001b[1;31mView Jupyter <a href='command:jupyter.viewOutput'>log</a> for further details."
     ]
    }
   ],
   "source": [
    "df_eq_idx = calc_CRSP_indices.calc_equal_weighted_index(df_msf)\n",
    "df_vw_idx = calc_CRSP_indices.calc_CRSP_value_weighted_index(df_msf)\n",
    "df_idxs = calc_CRSP_indices.calc_CRSP_indices_merge(df_msf, df_msix)\n",
    "df_idxs[[ \n",
    "    'vwretd', 'vwretx', 'ewretd', 'ewretx',\n",
    "    'vwretd_manual', 'vwretx_manual', 'ewretd_manual', 'ewretx_manual',]].head()"
   ]
  },
  {
   "cell_type": "code",
   "execution_count": null,
   "metadata": {},
   "outputs": [],
   "source": [
    "df_idxs[[ \n",
    "    'vwretd', 'vwretx', 'ewretd', 'ewretx',\n",
    "    'vwretd_manual', 'vwretx_manual', 'ewretd_manual', 'ewretx_manual',]].corr()"
   ]
  },
  {
   "cell_type": "markdown",
   "metadata": {},
   "source": [
    "As you can see above, our manually-created return index doesn't match the CRSP index perfectly but is still very close. In this HW, you'll be required to construct this index only approximately. A loose match, as seen here, will be fine.\n",
    "\n",
    "Note, a helpful tool to create the lagged time series for market capitalization is provided in `misc_tools`.\n",
    "Use the function `with_lagged_column`, which will create a lagged column that accounts for the fact that multiple stocks show up in a flat file. See the following example:"
   ]
  },
  {
   "cell_type": "code",
   "execution_count": null,
   "metadata": {},
   "outputs": [],
   "source": [
    "a=[\n",
    "    [1,'1990/1/1',1],\n",
    "    [1,'1990/2/1',2],\n",
    "    [1,'1990/3/1',3],\n",
    "    [2,'1989/12/1',3],\n",
    "    [2,'1990/1/1',3],\n",
    "    [2,'1990/2/1',4],\n",
    "    [2,'1990/3/1',5.5],\n",
    "    [2,'1990/4/1',5],\n",
    "    [2,'1990/6/1',6]\n",
    "    ]\n",
    "data=pd.DataFrame(a,columns=['id','date','value'])\n",
    "data['date']=pd.to_datetime(data['date'])\n",
    "data"
   ]
  },
  {
   "cell_type": "code",
   "execution_count": null,
   "metadata": {},
   "outputs": [],
   "source": [
    "data_lag = misc_tools.with_lagged_columns(df=data, column_to_lag='value', id_column='id', lags=1, freq=\"BME\")\n",
    "data_lag"
   ]
  },
  {
   "cell_type": "markdown",
   "metadata": {},
   "source": [
    "As you can see, naively using `shift` to create our lag would miss the fact that observation `1989-12-01` for stock `id=2` should have a missing lagged `value`. For example, the following would be incorrect:\n"
   ]
  },
  {
   "cell_type": "code",
   "execution_count": null,
   "metadata": {},
   "outputs": [],
   "source": [
    "data['value'].shift(1)"
   ]
  },
  {
   "cell_type": "code",
   "execution_count": null,
   "metadata": {},
   "outputs": [],
   "source": []
  }
 ],
 "metadata": {
  "kernelspec": {
   "display_name": "Python 3",
   "language": "python",
   "name": "python3"
  },
  "language_info": {
   "codemirror_mode": {
    "name": "ipython",
    "version": 3
   },
   "file_extension": ".py",
   "mimetype": "text/x-python",
   "name": "python",
   "nbconvert_exporter": "python",
   "pygments_lexer": "ipython3",
   "version": "3.11.0"
  }
 },
 "nbformat": 4,
 "nbformat_minor": 2
}
