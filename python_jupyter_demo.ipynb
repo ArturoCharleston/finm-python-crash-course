{
  "cells": [
    {
      "cell_type": "markdown",
      "metadata": {
        "id": "J09tr3ds09ky"
      },
      "source": [
        "Python for Data Science Demo\n",
        "============================\n",
        "\n",
        "This notebook is designed to show off some of the features of using Python for data science that you'll encounter throughout the year. Although Jupyter Notebooks are not always the right medium for your code, it will also demonstrate some of the features of Jupyter and Jupyter Notebooks that make them useful for data exploration and visualization.\n",
        "\n",
        "IMPORTANT NOTE: You're not expected to learn how the code below works today---we'll hardly look at the code below. The point of this notebook is just to showcase what CAN be done. We'll learn how to write the code below over the next few weeks and throughout the next quarter. **After getting a look at what's possible in this notebook, we'll start from the very basics in the next notebook.** In the next notebook, we'll cover the basics of Python (types, control structures, functions, modules, etc) and then we'll proceed to learn how to use some of the basic data science packages for Python. This first notebook is just a demo.\n",
        "\n",
        "You can try running this code yourself. The quickest way to get up and running is to use Google Colaboratory: `https://colab.research.google.com/` You can open this notebook directly in Google Colaboratory by clicking here: [Open in Google Colaboratory.](https://colab.research.google.com/github/jmbejara/finm-python-crash-course/blob/master/python_jupyter_demo.ipynb)\n",
        "\n",
        "This notebook will start by setting up the environment and then will demonstrate some examples from NumPy, SciPy, Pandas, Matplotlib, and StatsModels (with some bonus examples from Seaborn and iPyWidgets.) This collection of packages represent the foundation of what is called the PyData stack (ecosystem):\n",
        "\n",
        "<div>\n",
        "<img src=\"http://chris35wills.github.io/courses/pydata_stack.png\" width=\"1000\"/>\n",
        "</div>\n"
      ]
    },
    {
      "cell_type": "markdown",
      "metadata": {
        "id": "GgL_HaFX09k4"
      },
      "source": [
        "\n",
        "# 1. Set up Environment\n",
        "\n",
        "We'll first start by discussing the Python interpreter, Anaconda vs Conda, Jupyter, and Google Colaboratory. We'll defer an in-depth discussion until next week, but we'll mention the basics today. Today, we'll run everything in Google Colaboratory. Next week we'll run our code locally in Jupyter. The following week, we'll discuss text editors. In particular, we'll write code in [Visual Studio Code](https://code.visualstudio.com/).\n",
        "\n",
        "Now, before we start, we need to set up our environment. We need to install the packages that we need (if they aren't installed already) and then we need to load the packages into Python."
      ]
    },
    {
      "cell_type": "code",
      "execution_count": 1,
      "metadata": {
        "colab": {
          "base_uri": "https://localhost:8080/"
        },
        "id": "jmOLqoi509k5",
        "outputId": "5e8e9acd-1534-4c02-905c-0b6397365a2d"
      },
      "outputs": [
        {
          "name": "stdout",
          "output_type": "stream",
          "text": [
            "Looking in indexes: https://pypi.org/simple, https://us-python.pkg.dev/colab-wheels/public/simple/\n",
            "Collecting plotly==5.9.0\n",
            "  Downloading plotly-5.9.0-py2.py3-none-any.whl (15.2 MB)\n",
            "\u001b[K     |████████████████████████████████| 15.2 MB 15.1 MB/s \n",
            "\u001b[?25hRequirement already satisfied: tenacity>=6.2.0 in /usr/local/lib/python3.7/dist-packages (from plotly==5.9.0) (8.0.1)\n",
            "Installing collected packages: plotly\n",
            "  Attempting uninstall: plotly\n",
            "    Found existing installation: plotly 5.5.0\n",
            "    Uninstalling plotly-5.5.0:\n",
            "      Successfully uninstalled plotly-5.5.0\n",
            "Successfully installed plotly-5.9.0\n"
          ]
        }
      ],
      "source": [
        "## Install required packages, but do automatically only if running within Google Colaboratory\n",
        "try:\n",
        "  import google.colab\n",
        "  IN_COLAB = True\n",
        "except:\n",
        "  IN_COLAB = False\n",
        "\n",
        "if IN_COLAB:\n",
        "  !pip install plotly==5.9.0\n",
        "else:\n",
        "  print(\"Be sure to install the required packages manually if not in Colab\")\n"
      ]
    },
    {
      "cell_type": "code",
      "execution_count": 2,
      "metadata": {
        "id": "bnV1UpR909k8"
      },
      "outputs": [],
      "source": [
        "import numpy as np\n",
        "import scipy as sp\n",
        "import pandas as pd\n",
        "from matplotlib import pyplot as plt\n",
        "import seaborn as sns\n",
        "\n",
        "import plotly.express as px\n",
        "\n",
        "sns.set()"
      ]
    },
    {
      "cell_type": "markdown",
      "metadata": {
        "id": "qOKX9_RL09k8"
      },
      "source": [
        "# 2. NumPy\n",
        "\n",
        "NumPy a library designed to add support \"for large, multi-dimensional arrays and matrices, along with a large collection of high-level mathematical functions to operate on these arrays.\"\n",
        "\n",
        "A good beginner tutorial can be found on the official NumPy website here: https://numpy.org/doc/stable/user/absolute_beginners.html\n",
        "\n",
        "The basic functionality of NumPy is the efficient management of arrays, with syntax as follows:\n",
        "<div>\n",
        "<img src=\"https://numpy.org/doc/stable/_images/np_array.png\" width=\"1000\"/>\n",
        "</div>"
      ]
    },
    {
      "cell_type": "code",
      "execution_count": 11,
      "metadata": {
        "id": "eWT5SKqo09k9"
      },
      "outputs": [],
      "source": [
        "a = np.array([1, 2, 3])"
      ]
    },
    {
      "cell_type": "code",
      "execution_count": 12,
      "metadata": {
        "colab": {
          "base_uri": "https://localhost:8080/"
        },
        "id": "Bpbeq4kt09k9",
        "outputId": "fdf83289-252a-437b-dda6-e6dc66b10b44"
      },
      "outputs": [
        {
          "data": {
            "text/plain": [
              "array([1, 2, 3])"
            ]
          },
          "execution_count": 12,
          "metadata": {},
          "output_type": "execute_result"
        }
      ],
      "source": [
        "a"
      ]
    },
    {
      "cell_type": "code",
      "execution_count": 13,
      "metadata": {
        "colab": {
          "base_uri": "https://localhost:8080/"
        },
        "id": "ScNDdnaP09k-",
        "outputId": "cd7a4dd0-c38a-419d-a80d-87f523892849"
      },
      "outputs": [
        {
          "data": {
            "text/plain": [
              "array([[1, 2],\n",
              "       [3, 4]])"
            ]
          },
          "execution_count": 13,
          "metadata": {},
          "output_type": "execute_result"
        }
      ],
      "source": [
        "A = np.array([[1, 2], [3, 4]])\n",
        "A"
      ]
    },
    {
      "cell_type": "code",
      "execution_count": 14,
      "metadata": {
        "colab": {
          "base_uri": "https://localhost:8080/"
        },
        "id": "oDrnad8q09k_",
        "outputId": "f389eba6-1958-4b9f-9e52-8e2b00ba96ad"
      },
      "outputs": [
        {
          "data": {
            "text/plain": [
              "array([[1, 0],\n",
              "       [0, 1]])"
            ]
          },
          "execution_count": 14,
          "metadata": {},
          "output_type": "execute_result"
        }
      ],
      "source": [
        "B = np.array([\n",
        "    [1, 0], \n",
        "    [0, 1]])\n",
        "B"
      ]
    },
    {
      "cell_type": "code",
      "execution_count": 15,
      "metadata": {
        "colab": {
          "base_uri": "https://localhost:8080/"
        },
        "id": "OcmcHFgN09k_",
        "outputId": "9251cbf3-a5ac-4b66-9152-16610ce7acc5"
      },
      "outputs": [
        {
          "data": {
            "text/plain": [
              "array([[1, 2],\n",
              "       [3, 4]])"
            ]
          },
          "execution_count": 15,
          "metadata": {},
          "output_type": "execute_result"
        }
      ],
      "source": [
        "A @ B"
      ]
    },
    {
      "cell_type": "markdown",
      "metadata": {
        "id": "9ksbfWdl09lA"
      },
      "source": [
        "\n",
        "<div>\n",
        "<img src=\"https://upload.wikimedia.org/wikipedia/commons/1/18/Matrix_multiplication_qtl1.svg\" width=\"1000\"/>\n",
        "</div>\n"
      ]
    },
    {
      "cell_type": "code",
      "execution_count": 16,
      "metadata": {
        "colab": {
          "base_uri": "https://localhost:8080/"
        },
        "id": "a7w8BPx609lA",
        "outputId": "02022eae-1281-479b-a57d-8e509b90cd4a"
      },
      "outputs": [
        {
          "data": {
            "text/plain": [
              "array([0. , 0.5])"
            ]
          },
          "execution_count": 16,
          "metadata": {},
          "output_type": "execute_result"
        }
      ],
      "source": [
        "b = np.array((1,2))\n",
        "x = np.linalg.solve(A, b)\n",
        "x"
      ]
    },
    {
      "cell_type": "code",
      "execution_count": 17,
      "metadata": {
        "colab": {
          "base_uri": "https://localhost:8080/"
        },
        "id": "NBwxT-rj09lB",
        "outputId": "215cfd88-23b3-45d6-9aea-f168336905c9"
      },
      "outputs": [
        {
          "data": {
            "text/plain": [
              "array([1., 2.])"
            ]
          },
          "execution_count": 17,
          "metadata": {},
          "output_type": "execute_result"
        }
      ],
      "source": [
        "A @ x"
      ]
    },
    {
      "cell_type": "code",
      "execution_count": 18,
      "metadata": {
        "colab": {
          "base_uri": "https://localhost:8080/"
        },
        "id": "5-GfMcPA09lB",
        "outputId": "83dce1e6-95d1-48c5-ddea-c0ea9349dbcf"
      },
      "outputs": [
        {
          "data": {
            "text/plain": [
              "array([-0.37228132,  5.37228132])"
            ]
          },
          "execution_count": 18,
          "metadata": {},
          "output_type": "execute_result"
        }
      ],
      "source": [
        "eigval, eigvec = np.linalg.eig(A)\n",
        "eigval"
      ]
    },
    {
      "cell_type": "code",
      "execution_count": 19,
      "metadata": {
        "colab": {
          "base_uri": "https://localhost:8080/"
        },
        "id": "V5dNLQQ209lC",
        "outputId": "c5253bba-e2f1-4d61-8d11-a9e66dfe52fb"
      },
      "outputs": [
        {
          "data": {
            "text/plain": [
              "array([[-0.82456484, -0.41597356],\n",
              "       [ 0.56576746, -0.90937671]])"
            ]
          },
          "execution_count": 19,
          "metadata": {},
          "output_type": "execute_result"
        }
      ],
      "source": [
        "eigvec"
      ]
    },
    {
      "cell_type": "markdown",
      "metadata": {
        "id": "oy8f0YOD09lC"
      },
      "source": [
        "# 2. SciPy\n",
        "\n",
        "SciPy is a library \"used for scientific computing and technical computing. SciPy contains modules for optimization, linear algebra, integration, interpolation, special functions, FFT, signal and image processing, ODE solvers and other tasks common in science and engineering.\"\n",
        "\n",
        "For example, consider calculating the following integral.\n",
        "$$\n",
        "\\int_0^1 a x^2 + b \\, d x\n",
        "$$"
      ]
    },
    {
      "cell_type": "code",
      "execution_count": 20,
      "metadata": {
        "colab": {
          "base_uri": "https://localhost:8080/"
        },
        "id": "a88dKmF809lC",
        "outputId": "47bdcbc7-9012-4174-ded4-78e4d388ff01"
      },
      "outputs": [
        {
          "data": {
            "text/plain": [
              "1.6666666666666667"
            ]
          },
          "execution_count": 20,
          "metadata": {},
          "output_type": "execute_result"
        }
      ],
      "source": [
        "from scipy.integrate import quad\n",
        "a = 2\n",
        "b = 1\n",
        "def integrand(x):\n",
        "    return a*x**2 + b\n",
        "I, err = quad(integrand, 0, 1)\n",
        "I"
      ]
    },
    {
      "cell_type": "markdown",
      "metadata": {
        "id": "fXUSbyiz09lD"
      },
      "source": [
        "# 3. Matplotlib\n",
        "\n",
        "Matplotlib is the most plotting library for Python. Even other plotting libraries build off of Matplotlib as a foundation. Even if you use other plotting libraries, it is important to understand the basics of Matplotlib.\n",
        "\n",
        "As an example, consider the function\n",
        "$$\n",
        "y = x_0 \\exp(-x_2 \\cdot t) + x_1 \\exp(-x_3 \\cdot t)\n",
        "$$"
      ]
    },
    {
      "cell_type": "code",
      "execution_count": 21,
      "metadata": {
        "colab": {
          "base_uri": "https://localhost:8080/",
          "height": 285
        },
        "id": "SUvgyUgu09lD",
        "outputId": "c5a7f35f-a9a2-4402-9cc4-2d7fa89d4bf5"
      },
      "outputs": [
        {
          "data": {
            "text/plain": [
              "[<matplotlib.lines.Line2D at 0x7fcc7d2526d0>]"
            ]
          },
          "execution_count": 21,
          "metadata": {},
          "output_type": "execute_result"
        },
        {
          "data": {
            "image/png": "[encoded data removed]",
            "text/plain": [
              "<Figure size 432x288 with 1 Axes>"
            ]
          },
          "metadata": {},
          "output_type": "display_data"
        }
      ],
      "source": [
        "x = np.array([1, 1, 1, 0])\n",
        "yfunc = lambda t: x[0] * np.exp(-x[2]* t) + x[1] * np.exp(-x[3] * t)\n",
        "t_grid = np.linspace(0, 2, 100)\n",
        "y = yfunc(t_grid)\n",
        "plt.plot(t_grid, y)"
      ]
    },
    {
      "cell_type": "markdown",
      "metadata": {
        "id": "HADy3tiY09lE"
      },
      "source": [
        "Now, let's consider some fancier examples. We'll even use some Seaborn code."
      ]
    },
    {
      "cell_type": "code",
      "execution_count": 22,
      "metadata": {
        "colab": {
          "base_uri": "https://localhost:8080/",
          "height": 302
        },
        "id": "_eod0jPm09lE",
        "outputId": "6a31e9bb-8238-4f8e-cb54-f73dce6ee404"
      },
      "outputs": [
        {
          "data": {
            "text/plain": [
              "<matplotlib.axes._subplots.AxesSubplot at 0x7fcc7d2bd090>"
            ]
          },
          "execution_count": 22,
          "metadata": {},
          "output_type": "execute_result"
        },
        {
          "data": {
            "image/png": "[encoded data removed]",
            "text/plain": [
              "<Figure size 432x288 with 1 Axes>"
            ]
          },
          "metadata": {},
          "output_type": "display_data"
        }
      ],
      "source": [
        "# https://seaborn.pydata.org/examples/errorband_lineplots.html\n",
        "# Load an example dataset with long-form data\n",
        "sns.set_theme(style=\"darkgrid\")\n",
        "fmri = sns.load_dataset(\"fmri\")\n",
        "\n",
        "# Plot the responses for different events and regions\n",
        "sns.lineplot(x=\"timepoint\", y=\"signal\",\n",
        "             hue=\"region\", style=\"event\",\n",
        "             data=fmri)"
      ]
    },
    {
      "cell_type": "code",
      "execution_count": 23,
      "metadata": {
        "colab": {
          "base_uri": "https://localhost:8080/",
          "height": 394
        },
        "id": "s6iLULcm09lE",
        "outputId": "380f3986-457a-4854-e628-1183a3e29957"
      },
      "outputs": [
        {
          "data": {
            "text/plain": [
              "<matplotlib.axes._subplots.AxesSubplot at 0x7fcc7cdc2f50>"
            ]
          },
          "execution_count": 23,
          "metadata": {},
          "output_type": "execute_result"
        },
        {
          "data": {
            "image/png": "[encoded data removed]",
            "text/plain": [
              "<Figure size 432x432 with 1 Axes>"
            ]
          },
          "metadata": {},
          "output_type": "display_data"
        }
      ],
      "source": [
        "# https://seaborn.pydata.org/examples/layered_bivariate_plot.html\n",
        "# sns.set_theme(style=\"dark\")\n",
        "\n",
        "# Simulate data from a bivariate Gaussian\n",
        "n = 10000\n",
        "mean = [0, 0]\n",
        "cov = [(2, .4), (.4, .2)]\n",
        "rng = np.random.RandomState(0)\n",
        "x, y = rng.multivariate_normal(mean, cov, n).T\n",
        "\n",
        "# Draw a combo histogram and scatterplot with density contours\n",
        "f, ax = plt.subplots(figsize=(6, 6))\n",
        "sns.scatterplot(x=x, y=y, s=5, color=\".15\")\n",
        "sns.histplot(x=x, y=y, bins=50, pthresh=.1, cmap=\"mako\")\n",
        "sns.kdeplot(x=x, y=y, levels=5, color=\"w\", linewidths=1)"
      ]
    },
    {
      "cell_type": "code",
      "execution_count": 24,
      "metadata": {
        "colab": {
          "base_uri": "https://localhost:8080/",
          "height": 581
        },
        "id": "OLUuZeDd09lF",
        "outputId": "e9cde0ad-394e-435f-94eb-758788f086d6"
      },
      "outputs": [
        {
          "data": {
            "image/png": "[encoded data removed]",
            "text/plain": [
              "<Figure size 648x576 with 12 Axes>"
            ]
          },
          "metadata": {},
          "output_type": "display_data"
        }
      ],
      "source": [
        "# https://seaborn.pydata.org/examples/timeseries_facets.html\n",
        "flights = sns.load_dataset(\"flights\")\n",
        "\n",
        "# Plot each year's time series in its own facet\n",
        "g = sns.relplot(\n",
        "    data=flights,\n",
        "    x=\"month\", y=\"passengers\", col=\"year\", hue=\"year\",\n",
        "    kind=\"line\", palette=\"crest\", linewidth=4, zorder=5,\n",
        "    col_wrap=3, height=2, aspect=1.5, legend=False,\n",
        ")\n",
        "\n",
        "# Iterate over each subplot to customize further\n",
        "for year, ax in g.axes_dict.items():\n",
        "\n",
        "    # Add the title as an annotation within the plot\n",
        "    ax.text(.8, .85, year, transform=ax.transAxes, fontweight=\"bold\")\n",
        "\n",
        "    # Plot every year's time series in the background\n",
        "    sns.lineplot(\n",
        "        data=flights, x=\"month\", y=\"passengers\", units=\"year\",\n",
        "        estimator=None, color=\".7\", linewidth=1, ax=ax,\n",
        "    )\n",
        "\n",
        "# Reduce the frequency of the x axis ticks\n",
        "ax.set_xticks(ax.get_xticks()[::2])\n",
        "\n",
        "# Tweak the supporting aspects of the plot\n",
        "g.set_titles(\"\")\n",
        "g.set_axis_labels(\"\", \"Passengers\")\n",
        "g.tight_layout()"
      ]
    },
    {
      "cell_type": "code",
      "execution_count": 25,
      "metadata": {
        "colab": {
          "base_uri": "https://localhost:8080/",
          "height": 542
        },
        "id": "DtSwKQbu09lF",
        "outputId": "c7307c38-191e-4d4d-cb48-ced11896a2ae"
      },
      "outputs": [
        {
          "data": {
            "text/html": [
              "<html>\n",
              "<head><meta charset=\"utf-8\" /></head>\n",
              "<body>\n",
              "    <div>            <script src=\"https://cdnjs.cloudflare.com/ajax/libs/mathjax/2.7.5/MathJax.js?config=TeX-AMS-MML_SVG\"></script><script type=\"text/javascript\">if (window.MathJax && window.MathJax.Hub && window.MathJax.Hub.Config) {window.MathJax.Hub.Config({SVG: {font: \"STIX-Web\"}});}</script>                <script type=\"text/javascript\">window.PlotlyConfig = {MathJaxConfig: 'local'};</script>\n",
              "        <script src=\"https://cdn.plot.ly/plotly-2.12.1.min.js\"></script>                <div id=\"fe754c83-4449-45f6-bacc-0f481db8db6b\" class=\"plotly-graph-div\" style=\"height:525px; width:100%;\"></div>            <script type=\"text/javascript\">                                    window.PLOTLYENV=window.PLOTLYENV || {};                                    if (document.getElementById(\"fe754c83-4449-45f6-bacc-0f481db8db6b\")) {                    Plotly.newPlot(                        \"fe754c83-4449-45f6-bacc-0f481db8db6b\",                        [{\"hovertemplate\":\"date=%{x}<br>GOOG=%{y}<extra></extra>\",\"legendgroup\":\"\",\"line\":{\"color\":\"#636efa\",\"dash\":\"solid\"},\"marker\":{\"symbol\":\"circle\"},\"mode\":\"lines\",\"name\":\"\",\"orientation\":\"v\",\"showlegend\":false,\"x\":[\"2018-01-01\",\"2018-01-08\",\"2018-01-15\",\"2018-01-22\",\"2018-01-29\",\"2018-02-05\",\"2018-02-12\",\"2018-02-19\",\"2018-02-26\",\"2018-03-05\",\"2018-03-12\",\"2018-03-19\",\"2018-03-26\",\"2018-04-02\",\"2018-04-09\",\"2018-04-16\",\"2018-04-23\",\"2018-04-30\",\"2018-05-07\",\"2018-05-14\",\"2018-05-21\",\"2018-05-28\",\"2018-06-04\",\"2018-06-11\",\"2018-06-18\",\"2018-06-25\",\"2018-07-02\",\"2018-07-09\",\"2018-07-16\",\"2018-07-23\",\"2018-07-30\",\"2018-08-06\",\"2018-08-13\",\"2018-08-20\",\"2018-08-27\",\"2018-09-03\",\"2018-09-10\",\"2018-09-17\",\"2018-09-24\",\"2018-10-01\",\"2018-10-08\",\"2018-10-15\",\"2018-10-22\",\"2018-10-29\",\"2018-11-05\",\"2018-11-12\",\"2018-11-19\",\"2018-11-26\",\"2018-12-03\",\"2018-12-10\",\"2018-12-17\",\"2018-12-24\",\"2018-12-31\",\"2019-01-07\",\"2019-01-14\",\"2019-01-21\",\"2019-01-28\",\"2019-02-04\",\"2019-02-11\",\"2019-02-18\",\"2019-02-25\",\"2019-03-04\",\"2019-03-11\",\"2019-03-18\",\"2019-03-25\",\"2019-04-01\",\"2019-04-08\",\"2019-04-15\",\"2019-04-22\",\"2019-04-29\",\"2019-05-06\",\"2019-05-13\",\"2019-05-20\",\"2019-05-27\",\"2019-06-03\",\"2019-06-10\",\"2019-06-17\",\"2019-06-24\",\"2019-07-01\",\"2019-07-08\",\"2019-07-15\",\"2019-07-22\",\"2019-07-29\",\"2019-08-05\",\"2019-08-12\",\"2019-08-19\",\"2019-08-26\",\"2019-09-02\",\"2019-09-09\",\"2019-09-16\",\"2019-09-23\",\"2019-09-30\",\"2019-10-07\",\"2019-10-14\",\"2019-10-21\",\"2019-10-28\",\"2019-11-04\",\"2019-11-11\",\"2019-11-18\",\"2019-11-25\",\"2019-12-02\",\"2019-12-09\",\"2019-12-16\",\"2019-12-23\",\"2019-12-30\"],\"xaxis\":\"x\",\"y\":[1.0,1.018172278347936,1.032007866452698,1.066782783389724,1.0087731636550117,0.9415276737437316,0.99325918262539,1.0222821547641083,0.9788520214265992,1.0524482730908842,1.0303929312465263,0.926821104067592,0.9360932452590338,0.913638710861412,0.93380695379017,0.9734447261178653,0.9345146364100892,0.9509902470625956,0.9963982380519172,0.9674568868105002,0.9758943718805396,1.015668254641377,1.0169111849053498,1.0453898287179595,1.0483111519067918,1.0121753574512644,1.0344211867653972,1.0785588920381208,1.075011617811375,1.1236312044424703,1.1102129167272332,1.1228237368393843,1.0895729410299655,1.1074367837463466,1.1052048693141154,1.0567939333314087,1.0637798374890872,1.0579370795194665,1.0827776350267664,1.0500077089175164,1.007121903906116,0.9947651405743836,0.9720929301886708,0.959681788913054,0.9672663993407256,0.9630385756700248,0.9289168536315806,0.992923504040418,0.9404389054995582,0.945446952912676,0.8886892896888904,0.9408925313390586,0.9714034098401132,0.9591373489949891,0.9963982380519172,0.989802500200548,1.0077298024501202,0.9934950771344468,1.0103608540932627,1.0073850422758417,1.035165084150587,1.0363716889645844,1.0746032883264525,1.0936918990354445,1.064487521016258,1.095188886079836,1.1049145977684258,1.1216987538299403,1.1541874899828073,1.075456162061569,1.0562859304552756,1.0544986709579427,1.0283425342867192,1.001270175031893,0.9671666152648106,0.98468558802946,1.0178275181736574,0.980657443195294,1.0266368965939394,1.0387124690620373,1.025285100664745,1.1344366027859267,1.0832494231376286,1.0778240762422375,1.068379555417282,1.0445098208996275,1.0779056980467905,1.0931748145700046,1.12459294475006,1.115856106545024,1.1114649285805127,1.0968672799119472,1.10271900878617,1.129972884606169,1.1477913211905195,1.155602744537941,1.189742629754999,1.2110630442115171,1.1751993590303178,1.183927115646047,1.216279741365772,1.222820990588552,1.22441776261611,1.2265044859331442,1.213013658002661],\"yaxis\":\"y\",\"type\":\"scatter\"}],                        {\"template\":{\"data\":{\"histogram2dcontour\":[{\"type\":\"histogram2dcontour\",\"colorbar\":{\"outlinewidth\":0,\"ticks\":\"\"},\"colorscale\":[[0.0,\"#0d0887\"],[0.1111111111111111,\"#46039f\"],[0.2222222222222222,\"#7201a8\"],[0.3333333333333333,\"#9c179e\"],[0.4444444444444444,\"#bd3786\"],[0.5555555555555556,\"#d8576b\"],[0.6666666666666666,\"#ed7953\"],[0.7777777777777778,\"#fb9f3a\"],[0.8888888888888888,\"#fdca26\"],[1.0,\"#f0f921\"]]}],\"choropleth\":[{\"type\":\"choropleth\",\"colorbar\":{\"outlinewidth\":0,\"ticks\":\"\"}}],\"histogram2d\":[{\"type\":\"histogram2d\",\"colorbar\":{\"outlinewidth\":0,\"ticks\":\"\"},\"colorscale\":[[0.0,\"#0d0887\"],[0.1111111111111111,\"#46039f\"],[0.2222222222222222,\"#7201a8\"],[0.3333333333333333,\"#9c179e\"],[0.4444444444444444,\"#bd3786\"],[0.5555555555555556,\"#d8576b\"],[0.6666666666666666,\"#ed7953\"],[0.7777777777777778,\"#fb9f3a\"],[0.8888888888888888,\"#fdca26\"],[1.0,\"#f0f921\"]]}],\"heatmap\":[{\"type\":\"heatmap\",\"colorbar\":{\"outlinewidth\":0,\"ticks\":\"\"},\"colorscale\":[[0.0,\"#0d0887\"],[0.1111111111111111,\"#46039f\"],[0.2222222222222222,\"#7201a8\"],[0.3333333333333333,\"#9c179e\"],[0.4444444444444444,\"#bd3786\"],[0.5555555555555556,\"#d8576b\"],[0.6666666666666666,\"#ed7953\"],[0.7777777777777778,\"#fb9f3a\"],[0.8888888888888888,\"#fdca26\"],[1.0,\"#f0f921\"]]}],\"heatmapgl\":[{\"type\":\"heatmapgl\",\"colorbar\":{\"outlinewidth\":0,\"ticks\":\"\"},\"colorscale\":[[0.0,\"#0d0887\"],[0.1111111111111111,\"#46039f\"],[0.2222222222222222,\"#7201a8\"],[0.3333333333333333,\"#9c179e\"],[0.4444444444444444,\"#bd3786\"],[0.5555555555555556,\"#d8576b\"],[0.6666666666666666,\"#ed7953\"],[0.7777777777777778,\"#fb9f3a\"],[0.8888888888888888,\"#fdca26\"],[1.0,\"#f0f921\"]]}],\"contourcarpet\":[{\"type\":\"contourcarpet\",\"colorbar\":{\"outlinewidth\":0,\"ticks\":\"\"}}],\"contour\":[{\"type\":\"contour\",\"colorbar\":{\"outlinewidth\":0,\"ticks\":\"\"},\"colorscale\":[[0.0,\"#0d0887\"],[0.1111111111111111,\"#46039f\"],[0.2222222222222222,\"#7201a8\"],[0.3333333333333333,\"#9c179e\"],[0.4444444444444444,\"#bd3786\"],[0.5555555555555556,\"#d8576b\"],[0.6666666666666666,\"#ed7953\"],[0.7777777777777778,\"#fb9f3a\"],[0.8888888888888888,\"#fdca26\"],[1.0,\"#f0f921\"]]}],\"surface\":[{\"type\":\"surface\",\"colorbar\":{\"outlinewidth\":0,\"ticks\":\"\"},\"colorscale\":[[0.0,\"#0d0887\"],[0.1111111111111111,\"#46039f\"],[0.2222222222222222,\"#7201a8\"],[0.3333333333333333,\"#9c179e\"],[0.4444444444444444,\"#bd3786\"],[0.5555555555555556,\"#d8576b\"],[0.6666666666666666,\"#ed7953\"],[0.7777777777777778,\"#fb9f3a\"],[0.8888888888888888,\"#fdca26\"],[1.0,\"#f0f921\"]]}],\"mesh3d\":[{\"type\":\"mesh3d\",\"colorbar\":{\"outlinewidth\":0,\"ticks\":\"\"}}],\"scatter\":[{\"fillpattern\":{\"fillmode\":\"overlay\",\"size\":10,\"solidity\":0.2},\"type\":\"scatter\"}],\"parcoords\":[{\"type\":\"parcoords\",\"line\":{\"colorbar\":{\"outlinewidth\":0,\"ticks\":\"\"}}}],\"scatterpolargl\":[{\"type\":\"scatterpolargl\",\"marker\":{\"colorbar\":{\"outlinewidth\":0,\"ticks\":\"\"}}}],\"bar\":[{\"error_x\":{\"color\":\"#2a3f5f\"},\"error_y\":{\"color\":\"#2a3f5f\"},\"marker\":{\"line\":{\"color\":\"#E5ECF6\",\"width\":0.5},\"pattern\":{\"fillmode\":\"overlay\",\"size\":10,\"solidity\":0.2}},\"type\":\"bar\"}],\"scattergeo\":[{\"type\":\"scattergeo\",\"marker\":{\"colorbar\":{\"outlinewidth\":0,\"ticks\":\"\"}}}],\"scatterpolar\":[{\"type\":\"scatterpolar\",\"marker\":{\"colorbar\":{\"outlinewidth\":0,\"ticks\":\"\"}}}],\"histogram\":[{\"marker\":{\"pattern\":{\"fillmode\":\"overlay\",\"size\":10,\"solidity\":0.2}},\"type\":\"histogram\"}],\"scattergl\":[{\"type\":\"scattergl\",\"marker\":{\"colorbar\":{\"outlinewidth\":0,\"ticks\":\"\"}}}],\"scatter3d\":[{\"type\":\"scatter3d\",\"line\":{\"colorbar\":{\"outlinewidth\":0,\"ticks\":\"\"}},\"marker\":{\"colorbar\":{\"outlinewidth\":0,\"ticks\":\"\"}}}],\"scattermapbox\":[{\"type\":\"scattermapbox\",\"marker\":{\"colorbar\":{\"outlinewidth\":0,\"ticks\":\"\"}}}],\"scatterternary\":[{\"type\":\"scatterternary\",\"marker\":{\"colorbar\":{\"outlinewidth\":0,\"ticks\":\"\"}}}],\"scattercarpet\":[{\"type\":\"scattercarpet\",\"marker\":{\"colorbar\":{\"outlinewidth\":0,\"ticks\":\"\"}}}],\"carpet\":[{\"aaxis\":{\"endlinecolor\":\"#2a3f5f\",\"gridcolor\":\"white\",\"linecolor\":\"white\",\"minorgridcolor\":\"white\",\"startlinecolor\":\"#2a3f5f\"},\"baxis\":{\"endlinecolor\":\"#2a3f5f\",\"gridcolor\":\"white\",\"linecolor\":\"white\",\"minorgridcolor\":\"white\",\"startlinecolor\":\"#2a3f5f\"},\"type\":\"carpet\"}],\"table\":[{\"cells\":{\"fill\":{\"color\":\"#EBF0F8\"},\"line\":{\"color\":\"white\"}},\"header\":{\"fill\":{\"color\":\"#C8D4E3\"},\"line\":{\"color\":\"white\"}},\"type\":\"table\"}],\"barpolar\":[{\"marker\":{\"line\":{\"color\":\"#E5ECF6\",\"width\":0.5},\"pattern\":{\"fillmode\":\"overlay\",\"size\":10,\"solidity\":0.2}},\"type\":\"barpolar\"}],\"pie\":[{\"automargin\":true,\"type\":\"pie\"}]},\"layout\":{\"autotypenumbers\":\"strict\",\"colorway\":[\"#636efa\",\"#EF553B\",\"#00cc96\",\"#ab63fa\",\"#FFA15A\",\"#19d3f3\",\"#FF6692\",\"#B6E880\",\"#FF97FF\",\"#FECB52\"],\"font\":{\"color\":\"#2a3f5f\"},\"hovermode\":\"closest\",\"hoverlabel\":{\"align\":\"left\"},\"paper_bgcolor\":\"white\",\"plot_bgcolor\":\"#E5ECF6\",\"polar\":{\"bgcolor\":\"#E5ECF6\",\"angularaxis\":{\"gridcolor\":\"white\",\"linecolor\":\"white\",\"ticks\":\"\"},\"radialaxis\":{\"gridcolor\":\"white\",\"linecolor\":\"white\",\"ticks\":\"\"}},\"ternary\":{\"bgcolor\":\"#E5ECF6\",\"aaxis\":{\"gridcolor\":\"white\",\"linecolor\":\"white\",\"ticks\":\"\"},\"baxis\":{\"gridcolor\":\"white\",\"linecolor\":\"white\",\"ticks\":\"\"},\"caxis\":{\"gridcolor\":\"white\",\"linecolor\":\"white\",\"ticks\":\"\"}},\"coloraxis\":{\"colorbar\":{\"outlinewidth\":0,\"ticks\":\"\"}},\"colorscale\":{\"sequential\":[[0.0,\"#0d0887\"],[0.1111111111111111,\"#46039f\"],[0.2222222222222222,\"#7201a8\"],[0.3333333333333333,\"#9c179e\"],[0.4444444444444444,\"#bd3786\"],[0.5555555555555556,\"#d8576b\"],[0.6666666666666666,\"#ed7953\"],[0.7777777777777778,\"#fb9f3a\"],[0.8888888888888888,\"#fdca26\"],[1.0,\"#f0f921\"]],\"sequentialminus\":[[0.0,\"#0d0887\"],[0.1111111111111111,\"#46039f\"],[0.2222222222222222,\"#7201a8\"],[0.3333333333333333,\"#9c179e\"],[0.4444444444444444,\"#bd3786\"],[0.5555555555555556,\"#d8576b\"],[0.6666666666666666,\"#ed7953\"],[0.7777777777777778,\"#fb9f3a\"],[0.8888888888888888,\"#fdca26\"],[1.0,\"#f0f921\"]],\"diverging\":[[0,\"#8e0152\"],[0.1,\"#c51b7d\"],[0.2,\"#de77ae\"],[0.3,\"#f1b6da\"],[0.4,\"#fde0ef\"],[0.5,\"#f7f7f7\"],[0.6,\"#e6f5d0\"],[0.7,\"#b8e186\"],[0.8,\"#7fbc41\"],[0.9,\"#4d9221\"],[1,\"#276419\"]]},\"xaxis\":{\"gridcolor\":\"white\",\"linecolor\":\"white\",\"ticks\":\"\",\"title\":{\"standoff\":15},\"zerolinecolor\":\"white\",\"automargin\":true,\"zerolinewidth\":2},\"yaxis\":{\"gridcolor\":\"white\",\"linecolor\":\"white\",\"ticks\":\"\",\"title\":{\"standoff\":15},\"zerolinecolor\":\"white\",\"automargin\":true,\"zerolinewidth\":2},\"scene\":{\"xaxis\":{\"backgroundcolor\":\"#E5ECF6\",\"gridcolor\":\"white\",\"linecolor\":\"white\",\"showbackground\":true,\"ticks\":\"\",\"zerolinecolor\":\"white\",\"gridwidth\":2},\"yaxis\":{\"backgroundcolor\":\"#E5ECF6\",\"gridcolor\":\"white\",\"linecolor\":\"white\",\"showbackground\":true,\"ticks\":\"\",\"zerolinecolor\":\"white\",\"gridwidth\":2},\"zaxis\":{\"backgroundcolor\":\"#E5ECF6\",\"gridcolor\":\"white\",\"linecolor\":\"white\",\"showbackground\":true,\"ticks\":\"\",\"zerolinecolor\":\"white\",\"gridwidth\":2}},\"shapedefaults\":{\"line\":{\"color\":\"#2a3f5f\"}},\"annotationdefaults\":{\"arrowcolor\":\"#2a3f5f\",\"arrowhead\":0,\"arrowwidth\":1},\"geo\":{\"bgcolor\":\"white\",\"landcolor\":\"#E5ECF6\",\"subunitcolor\":\"white\",\"showland\":true,\"showlakes\":true,\"lakecolor\":\"white\"},\"title\":{\"x\":0.05},\"mapbox\":{\"style\":\"light\"}}},\"xaxis\":{\"anchor\":\"y\",\"domain\":[0.0,1.0],\"title\":{\"text\":\"date\"}},\"yaxis\":{\"anchor\":\"x\",\"domain\":[0.0,1.0],\"title\":{\"text\":\"GOOG\"}},\"legend\":{\"tracegroupgap\":0},\"margin\":{\"t\":60}},                        {\"responsive\": true}                    ).then(function(){\n",
              "                            \n",
              "var gd = document.getElementById('fe754c83-4449-45f6-bacc-0f481db8db6b');\n",
              "var x = new MutationObserver(function (mutations, observer) {{\n",
              "        var display = window.getComputedStyle(gd).display;\n",
              "        if (!display || display === 'none') {{\n",
              "            console.log([gd, 'removed!']);\n",
              "            Plotly.purge(gd);\n",
              "            observer.disconnect();\n",
              "        }}\n",
              "}});\n",
              "\n",
              "// Listen for the removal of the full notebook cells\n",
              "var notebookContainer = gd.closest('#notebook-container');\n",
              "if (notebookContainer) {{\n",
              "    x.observe(notebookContainer, {childList: true});\n",
              "}}\n",
              "\n",
              "// Listen for the clearing of the current output cell\n",
              "var outputEl = gd.closest('.output');\n",
              "if (outputEl) {{\n",
              "    x.observe(outputEl, {childList: true});\n",
              "}}\n",
              "\n",
              "                        })                };                            </script>        </div>\n",
              "</body>\n",
              "</html>"
            ]
          },
          "metadata": {},
          "output_type": "display_data"
        }
      ],
      "source": [
        "# Install with:\n",
        "# conda install -c plotly plotly=5.9.0\n",
        "# or\n",
        "# pip install plotly==5.9.0\n",
        "\n",
        "df = px.data.stocks()\n",
        "fig = px.line(df, x='date', y=\"GOOG\")\n",
        "fig.show()"
      ]
    },
    {
      "cell_type": "markdown",
      "metadata": {
        "id": "j63HvaTz09lG"
      },
      "source": [
        "# 4. Pandas\n",
        "\n",
        "From Wikipedia, \"`pandas` is a software library written for the Python programming language for data manipulation and analysis. In particular, it offers data structures and operations for manipulating numerical tables and time series. It is free software released under the three-clause BSD license. The name is derived from the term \"panel data\", an econometrics term for data sets that include observations over multiple time periods for the same individuals. Its name is a play on the phrase \"Python data analysis\" itself. Wes McKinney started building what would become pandas at AQR Capital while he was a researcher there from 2007 to 2010.\""
      ]
    },
    {
      "cell_type": "code",
      "execution_count": 26,
      "metadata": {
        "colab": {
          "base_uri": "https://localhost:8080/"
        },
        "id": "Rg_2GgcE09lG",
        "outputId": "ddafc5ad-2137-4796-cad9-5f66acabe6ab"
      },
      "outputs": [
        {
          "data": {
            "text/plain": [
              "California    38332521\n",
              "Texas         26448193\n",
              "New York      19651127\n",
              "Florida       19552860\n",
              "Illinois      12882135\n",
              "dtype: int64"
            ]
          },
          "execution_count": 26,
          "metadata": {},
          "output_type": "execute_result"
        }
      ],
      "source": [
        "population_dict = {'California': 38332521,\n",
        "                   'Texas': 26448193,\n",
        "                   'New York': 19651127,\n",
        "                   'Florida': 19552860,\n",
        "                   'Illinois': 12882135}\n",
        "population = pd.Series(population_dict)\n",
        "population"
      ]
    },
    {
      "cell_type": "code",
      "execution_count": 27,
      "metadata": {
        "colab": {
          "base_uri": "https://localhost:8080/",
          "height": 206
        },
        "id": "j4QK0TT609lG",
        "outputId": "f5e92115-b0f0-4f79-c53d-c52bed449b13"
      },
      "outputs": [
        {
          "data": {
            "text/html": [
              "\n",
              "  <div id=\"df-bb62d86c-fde8-4b15-84bf-f0c4d4a26309\">\n",
              "    <div class=\"colab-df-container\">\n",
              "      <div>\n",
              "<style scoped>\n",
              "    .dataframe tbody tr th:only-of-type {\n",
              "        vertical-align: middle;\n",
              "    }\n",
              "\n",
              "    .dataframe tbody tr th {\n",
              "        vertical-align: top;\n",
              "    }\n",
              "\n",
              "    .dataframe thead th {\n",
              "        text-align: right;\n",
              "    }\n",
              "</style>\n",
              "<table border=\"1\" class=\"dataframe\">\n",
              "  <thead>\n",
              "    <tr style=\"text-align: right;\">\n",
              "      <th></th>\n",
              "      <th>population</th>\n",
              "      <th>area</th>\n",
              "    </tr>\n",
              "  </thead>\n",
              "  <tbody>\n",
              "    <tr>\n",
              "      <th>California</th>\n",
              "      <td>38332521</td>\n",
              "      <td>423967</td>\n",
              "    </tr>\n",
              "    <tr>\n",
              "      <th>Texas</th>\n",
              "      <td>26448193</td>\n",
              "      <td>695662</td>\n",
              "    </tr>\n",
              "    <tr>\n",
              "      <th>New York</th>\n",
              "      <td>19651127</td>\n",
              "      <td>141297</td>\n",
              "    </tr>\n",
              "    <tr>\n",
              "      <th>Florida</th>\n",
              "      <td>19552860</td>\n",
              "      <td>170312</td>\n",
              "    </tr>\n",
              "    <tr>\n",
              "      <th>Illinois</th>\n",
              "      <td>12882135</td>\n",
              "      <td>149995</td>\n",
              "    </tr>\n",
              "  </tbody>\n",
              "</table>\n",
              "</div>\n",
              "      <button class=\"colab-df-convert\" onclick=\"convertToInteractive('df-bb62d86c-fde8-4b15-84bf-f0c4d4a26309')\"\n",
              "              title=\"Convert this dataframe to an interactive table.\"\n",
              "              style=\"display:none;\">\n",
              "        \n",
              "  <svg xmlns=\"http://www.w3.org/2000/svg\" height=\"24px\"viewBox=\"0 0 24 24\"\n",
              "       width=\"24px\">\n",
              "    <path d=\"M0 0h24v24H0V0z\" fill=\"none\"/>\n",
              "    <path d=\"M18.56 5.44l.94 2.06.94-2.06 2.06-.94-2.06-.94-.94-2.06-.94 2.06-2.06.94zm-11 1L8.5 8.5l.94-2.06 2.06-.94-2.06-.94L8.5 2.5l-.94 2.06-2.06.94zm10 10l.94 2.06.94-2.06 2.06-.94-2.06-.94-.94-2.06-.94 2.06-2.06.94z\"/><path d=\"M17.41 7.96l-1.37-1.37c-.4-.4-.92-.59-1.43-.59-.52 0-1.04.2-1.43.59L10.3 9.45l-7.72 7.72c-.78.78-.78 2.05 0 2.83L4 21.41c.39.39.9.59 1.41.59.51 0 1.02-.2 1.41-.59l7.78-7.78 2.81-2.81c.8-.78.8-2.07 0-2.86zM5.41 20L4 18.59l7.72-7.72 1.47 1.35L5.41 20z\"/>\n",
              "  </svg>\n",
              "      </button>\n",
              "      \n",
              "  <style>\n",
              "    .colab-df-container {\n",
              "      display:flex;\n",
              "      flex-wrap:wrap;\n",
              "      gap: 12px;\n",
              "    }\n",
              "\n",
              "    .colab-df-convert {\n",
              "      background-color: #E8F0FE;\n",
              "      border: none;\n",
              "      border-radius: 50%;\n",
              "      cursor: pointer;\n",
              "      display: none;\n",
              "      fill: #1967D2;\n",
              "      height: 32px;\n",
              "      padding: 0 0 0 0;\n",
              "      width: 32px;\n",
              "    }\n",
              "\n",
              "    .colab-df-convert:hover {\n",
              "      background-color: #E2EBFA;\n",
              "      box-shadow: 0px 1px 2px rgba(60, 64, 67, 0.3), 0px 1px 3px 1px rgba(60, 64, 67, 0.15);\n",
              "      fill: #174EA6;\n",
              "    }\n",
              "\n",
              "    [theme=dark] .colab-df-convert {\n",
              "      background-color: #3B4455;\n",
              "      fill: #D2E3FC;\n",
              "    }\n",
              "\n",
              "    [theme=dark] .colab-df-convert:hover {\n",
              "      background-color: #434B5C;\n",
              "      box-shadow: 0px 1px 3px 1px rgba(0, 0, 0, 0.15);\n",
              "      filter: drop-shadow(0px 1px 2px rgba(0, 0, 0, 0.3));\n",
              "      fill: #FFFFFF;\n",
              "    }\n",
              "  </style>\n",
              "\n",
              "      <script>\n",
              "        const buttonEl =\n",
              "          document.querySelector('#df-bb62d86c-fde8-4b15-84bf-f0c4d4a26309 button.colab-df-convert');\n",
              "        buttonEl.style.display =\n",
              "          google.colab.kernel.accessAllowed ? 'block' : 'none';\n",
              "\n",
              "        async function convertToInteractive(key) {\n",
              "          const element = document.querySelector('#df-bb62d86c-fde8-4b15-84bf-f0c4d4a26309');\n",
              "          const dataTable =\n",
              "            await google.colab.kernel.invokeFunction('convertToInteractive',\n",
              "                                                     [key], {});\n",
              "          if (!dataTable) return;\n",
              "\n",
              "          const docLinkHtml = 'Like what you see? Visit the ' +\n",
              "            '<a target=\"_blank\" href=https://colab.research.google.com/notebooks/data_table.ipynb>data table notebook</a>'\n",
              "            + ' to learn more about interactive tables.';\n",
              "          element.innerHTML = '';\n",
              "          dataTable['output_type'] = 'display_data';\n",
              "          await google.colab.output.renderOutput(dataTable, element);\n",
              "          const docLink = document.createElement('div');\n",
              "          docLink.innerHTML = docLinkHtml;\n",
              "          element.appendChild(docLink);\n",
              "        }\n",
              "      </script>\n",
              "    </div>\n",
              "  </div>\n",
              "  "
            ],
            "text/plain": [
              "            population    area\n",
              "California    38332521  423967\n",
              "Texas         26448193  695662\n",
              "New York      19651127  141297\n",
              "Florida       19552860  170312\n",
              "Illinois      12882135  149995"
            ]
          },
          "execution_count": 27,
          "metadata": {},
          "output_type": "execute_result"
        }
      ],
      "source": [
        "area_dict = {\n",
        "    'California': 423967, \n",
        "    'Texas': 695662, \n",
        "    'New York': 141297,\n",
        "    'Florida': 170312, \n",
        "    'Illinois': 149995}\n",
        "area = pd.Series(area_dict)\n",
        "\n",
        "states = pd.DataFrame({'population': population,\n",
        "                       'area': area})\n",
        "states"
      ]
    },
    {
      "cell_type": "code",
      "execution_count": 28,
      "metadata": {
        "id": "DNnvyipc09lH"
      },
      "outputs": [],
      "source": [
        "url = 'https://raw.githubusercontent.com/justmarkham/DAT8/master/data/u.user'\n",
        "users = pd.read_table(url, sep='|', index_col='user_id')"
      ]
    },
    {
      "cell_type": "code",
      "execution_count": 29,
      "metadata": {
        "colab": {
          "base_uri": "https://localhost:8080/",
          "height": 238
        },
        "id": "w5LAr76d09lH",
        "outputId": "9bb2e3d7-8c63-4fdf-f750-72989bda25bc"
      },
      "outputs": [
        {
          "data": {
            "text/html": [
              "\n",
              "  <div id=\"df-100a4f8f-ced9-40e2-8706-5b4bd147558d\">\n",
              "    <div class=\"colab-df-container\">\n",
              "      <div>\n",
              "<style scoped>\n",
              "    .dataframe tbody tr th:only-of-type {\n",
              "        vertical-align: middle;\n",
              "    }\n",
              "\n",
              "    .dataframe tbody tr th {\n",
              "        vertical-align: top;\n",
              "    }\n",
              "\n",
              "    .dataframe thead th {\n",
              "        text-align: right;\n",
              "    }\n",
              "</style>\n",
              "<table border=\"1\" class=\"dataframe\">\n",
              "  <thead>\n",
              "    <tr style=\"text-align: right;\">\n",
              "      <th></th>\n",
              "      <th>age</th>\n",
              "      <th>gender</th>\n",
              "      <th>occupation</th>\n",
              "      <th>zip_code</th>\n",
              "    </tr>\n",
              "    <tr>\n",
              "      <th>user_id</th>\n",
              "      <th></th>\n",
              "      <th></th>\n",
              "      <th></th>\n",
              "      <th></th>\n",
              "    </tr>\n",
              "  </thead>\n",
              "  <tbody>\n",
              "    <tr>\n",
              "      <th>1</th>\n",
              "      <td>24</td>\n",
              "      <td>M</td>\n",
              "      <td>technician</td>\n",
              "      <td>85711</td>\n",
              "    </tr>\n",
              "    <tr>\n",
              "      <th>2</th>\n",
              "      <td>53</td>\n",
              "      <td>F</td>\n",
              "      <td>other</td>\n",
              "      <td>94043</td>\n",
              "    </tr>\n",
              "    <tr>\n",
              "      <th>3</th>\n",
              "      <td>23</td>\n",
              "      <td>M</td>\n",
              "      <td>writer</td>\n",
              "      <td>32067</td>\n",
              "    </tr>\n",
              "    <tr>\n",
              "      <th>4</th>\n",
              "      <td>24</td>\n",
              "      <td>M</td>\n",
              "      <td>technician</td>\n",
              "      <td>43537</td>\n",
              "    </tr>\n",
              "    <tr>\n",
              "      <th>5</th>\n",
              "      <td>33</td>\n",
              "      <td>F</td>\n",
              "      <td>other</td>\n",
              "      <td>15213</td>\n",
              "    </tr>\n",
              "  </tbody>\n",
              "</table>\n",
              "</div>\n",
              "      <button class=\"colab-df-convert\" onclick=\"convertToInteractive('df-100a4f8f-ced9-40e2-8706-5b4bd147558d')\"\n",
              "              title=\"Convert this dataframe to an interactive table.\"\n",
              "              style=\"display:none;\">\n",
              "        \n",
              "  <svg xmlns=\"http://www.w3.org/2000/svg\" height=\"24px\"viewBox=\"0 0 24 24\"\n",
              "       width=\"24px\">\n",
              "    <path d=\"M0 0h24v24H0V0z\" fill=\"none\"/>\n",
              "    <path d=\"M18.56 5.44l.94 2.06.94-2.06 2.06-.94-2.06-.94-.94-2.06-.94 2.06-2.06.94zm-11 1L8.5 8.5l.94-2.06 2.06-.94-2.06-.94L8.5 2.5l-.94 2.06-2.06.94zm10 10l.94 2.06.94-2.06 2.06-.94-2.06-.94-.94-2.06-.94 2.06-2.06.94z\"/><path d=\"M17.41 7.96l-1.37-1.37c-.4-.4-.92-.59-1.43-.59-.52 0-1.04.2-1.43.59L10.3 9.45l-7.72 7.72c-.78.78-.78 2.05 0 2.83L4 21.41c.39.39.9.59 1.41.59.51 0 1.02-.2 1.41-.59l7.78-7.78 2.81-2.81c.8-.78.8-2.07 0-2.86zM5.41 20L4 18.59l7.72-7.72 1.47 1.35L5.41 20z\"/>\n",
              "  </svg>\n",
              "      </button>\n",
              "      \n",
              "  <style>\n",
              "    .colab-df-container {\n",
              "      display:flex;\n",
              "      flex-wrap:wrap;\n",
              "      gap: 12px;\n",
              "    }\n",
              "\n",
              "    .colab-df-convert {\n",
              "      background-color: #E8F0FE;\n",
              "      border: none;\n",
              "      border-radius: 50%;\n",
              "      cursor: pointer;\n",
              "      display: none;\n",
              "      fill: #1967D2;\n",
              "      height: 32px;\n",
              "      padding: 0 0 0 0;\n",
              "      width: 32px;\n",
              "    }\n",
              "\n",
              "    .colab-df-convert:hover {\n",
              "      background-color: #E2EBFA;\n",
              "      box-shadow: 0px 1px 2px rgba(60, 64, 67, 0.3), 0px 1px 3px 1px rgba(60, 64, 67, 0.15);\n",
              "      fill: #174EA6;\n",
              "    }\n",
              "\n",
              "    [theme=dark] .colab-df-convert {\n",
              "      background-color: #3B4455;\n",
              "      fill: #D2E3FC;\n",
              "    }\n",
              "\n",
              "    [theme=dark] .colab-df-convert:hover {\n",
              "      background-color: #434B5C;\n",
              "      box-shadow: 0px 1px 3px 1px rgba(0, 0, 0, 0.15);\n",
              "      filter: drop-shadow(0px 1px 2px rgba(0, 0, 0, 0.3));\n",
              "      fill: #FFFFFF;\n",
              "    }\n",
              "  </style>\n",
              "\n",
              "      <script>\n",
              "        const buttonEl =\n",
              "          document.querySelector('#df-100a4f8f-ced9-40e2-8706-5b4bd147558d button.colab-df-convert');\n",
              "        buttonEl.style.display =\n",
              "          google.colab.kernel.accessAllowed ? 'block' : 'none';\n",
              "\n",
              "        async function convertToInteractive(key) {\n",
              "          const element = document.querySelector('#df-100a4f8f-ced9-40e2-8706-5b4bd147558d');\n",
              "          const dataTable =\n",
              "            await google.colab.kernel.invokeFunction('convertToInteractive',\n",
              "                                                     [key], {});\n",
              "          if (!dataTable) return;\n",
              "\n",
              "          const docLinkHtml = 'Like what you see? Visit the ' +\n",
              "            '<a target=\"_blank\" href=https://colab.research.google.com/notebooks/data_table.ipynb>data table notebook</a>'\n",
              "            + ' to learn more about interactive tables.';\n",
              "          element.innerHTML = '';\n",
              "          dataTable['output_type'] = 'display_data';\n",
              "          await google.colab.output.renderOutput(dataTable, element);\n",
              "          const docLink = document.createElement('div');\n",
              "          docLink.innerHTML = docLinkHtml;\n",
              "          element.appendChild(docLink);\n",
              "        }\n",
              "      </script>\n",
              "    </div>\n",
              "  </div>\n",
              "  "
            ],
            "text/plain": [
              "         age gender  occupation zip_code\n",
              "user_id                                 \n",
              "1         24      M  technician    85711\n",
              "2         53      F       other    94043\n",
              "3         23      M      writer    32067\n",
              "4         24      M  technician    43537\n",
              "5         33      F       other    15213"
            ]
          },
          "execution_count": 29,
          "metadata": {},
          "output_type": "execute_result"
        }
      ],
      "source": [
        "users.head()"
      ]
    },
    {
      "cell_type": "markdown",
      "metadata": {
        "id": "Y9Ku8QcY1gMM"
      },
      "source": [
        "# 5. StatsModels\n",
        "\n",
        "\"`statsmodels` is a Python module that provides classes and functions for the estimation of many different statistical models, as well as for conducting statistical tests, and statistical data exploration.\""
      ]
    },
    {
      "cell_type": "code",
      "execution_count": 30,
      "metadata": {
        "id": "Emn371Wg2RDQ"
      },
      "outputs": [],
      "source": [
        "import statsmodels.api as sm\n",
        "import statsmodels.formula.api as smf"
      ]
    },
    {
      "cell_type": "code",
      "execution_count": 31,
      "metadata": {
        "colab": {
          "base_uri": "https://localhost:8080/",
          "height": 236
        },
        "id": "hQj002582asK",
        "outputId": "990beafc-73c1-4804-87d3-51f2c17bf2d7"
      },
      "outputs": [
        {
          "data": {
            "text/html": [
              "\n",
              "  <div id=\"df-ea0c3227-1e29-4262-8b67-70b35b434c1b\">\n",
              "    <div class=\"colab-df-container\">\n",
              "      <div>\n",
              "<style scoped>\n",
              "    .dataframe tbody tr th:only-of-type {\n",
              "        vertical-align: middle;\n",
              "    }\n",
              "\n",
              "    .dataframe tbody tr th {\n",
              "        vertical-align: top;\n",
              "    }\n",
              "\n",
              "    .dataframe thead th {\n",
              "        text-align: right;\n",
              "    }\n",
              "</style>\n",
              "<table border=\"1\" class=\"dataframe\">\n",
              "  <thead>\n",
              "    <tr style=\"text-align: right;\">\n",
              "      <th></th>\n",
              "      <th>dept</th>\n",
              "      <th>Region</th>\n",
              "      <th>Department</th>\n",
              "      <th>Crime_pers</th>\n",
              "      <th>Crime_prop</th>\n",
              "      <th>Literacy</th>\n",
              "      <th>Donations</th>\n",
              "      <th>Infants</th>\n",
              "      <th>Suicides</th>\n",
              "      <th>MainCity</th>\n",
              "      <th>...</th>\n",
              "      <th>Crime_parents</th>\n",
              "      <th>Infanticide</th>\n",
              "      <th>Donation_clergy</th>\n",
              "      <th>Lottery</th>\n",
              "      <th>Desertion</th>\n",
              "      <th>Instruction</th>\n",
              "      <th>Prostitutes</th>\n",
              "      <th>Distance</th>\n",
              "      <th>Area</th>\n",
              "      <th>Pop1831</th>\n",
              "    </tr>\n",
              "  </thead>\n",
              "  <tbody>\n",
              "    <tr>\n",
              "      <th>0</th>\n",
              "      <td>1</td>\n",
              "      <td>E</td>\n",
              "      <td>Ain</td>\n",
              "      <td>28870</td>\n",
              "      <td>15890</td>\n",
              "      <td>37</td>\n",
              "      <td>5098</td>\n",
              "      <td>33120</td>\n",
              "      <td>35039</td>\n",
              "      <td>2:Med</td>\n",
              "      <td>...</td>\n",
              "      <td>71</td>\n",
              "      <td>60</td>\n",
              "      <td>69</td>\n",
              "      <td>41</td>\n",
              "      <td>55</td>\n",
              "      <td>46</td>\n",
              "      <td>13</td>\n",
              "      <td>218.372</td>\n",
              "      <td>5762</td>\n",
              "      <td>346.03</td>\n",
              "    </tr>\n",
              "    <tr>\n",
              "      <th>1</th>\n",
              "      <td>2</td>\n",
              "      <td>N</td>\n",
              "      <td>Aisne</td>\n",
              "      <td>26226</td>\n",
              "      <td>5521</td>\n",
              "      <td>51</td>\n",
              "      <td>8901</td>\n",
              "      <td>14572</td>\n",
              "      <td>12831</td>\n",
              "      <td>2:Med</td>\n",
              "      <td>...</td>\n",
              "      <td>4</td>\n",
              "      <td>82</td>\n",
              "      <td>36</td>\n",
              "      <td>38</td>\n",
              "      <td>82</td>\n",
              "      <td>24</td>\n",
              "      <td>327</td>\n",
              "      <td>65.945</td>\n",
              "      <td>7369</td>\n",
              "      <td>513.00</td>\n",
              "    </tr>\n",
              "    <tr>\n",
              "      <th>2</th>\n",
              "      <td>3</td>\n",
              "      <td>C</td>\n",
              "      <td>Allier</td>\n",
              "      <td>26747</td>\n",
              "      <td>7925</td>\n",
              "      <td>13</td>\n",
              "      <td>10973</td>\n",
              "      <td>17044</td>\n",
              "      <td>114121</td>\n",
              "      <td>2:Med</td>\n",
              "      <td>...</td>\n",
              "      <td>46</td>\n",
              "      <td>42</td>\n",
              "      <td>76</td>\n",
              "      <td>66</td>\n",
              "      <td>16</td>\n",
              "      <td>85</td>\n",
              "      <td>34</td>\n",
              "      <td>161.927</td>\n",
              "      <td>7340</td>\n",
              "      <td>298.26</td>\n",
              "    </tr>\n",
              "    <tr>\n",
              "      <th>3</th>\n",
              "      <td>4</td>\n",
              "      <td>E</td>\n",
              "      <td>Basses-Alpes</td>\n",
              "      <td>12935</td>\n",
              "      <td>7289</td>\n",
              "      <td>46</td>\n",
              "      <td>2733</td>\n",
              "      <td>23018</td>\n",
              "      <td>14238</td>\n",
              "      <td>1:Sm</td>\n",
              "      <td>...</td>\n",
              "      <td>70</td>\n",
              "      <td>12</td>\n",
              "      <td>37</td>\n",
              "      <td>80</td>\n",
              "      <td>32</td>\n",
              "      <td>29</td>\n",
              "      <td>2</td>\n",
              "      <td>351.399</td>\n",
              "      <td>6925</td>\n",
              "      <td>155.90</td>\n",
              "    </tr>\n",
              "    <tr>\n",
              "      <th>4</th>\n",
              "      <td>5</td>\n",
              "      <td>E</td>\n",
              "      <td>Hautes-Alpes</td>\n",
              "      <td>17488</td>\n",
              "      <td>8174</td>\n",
              "      <td>69</td>\n",
              "      <td>6962</td>\n",
              "      <td>23076</td>\n",
              "      <td>16171</td>\n",
              "      <td>1:Sm</td>\n",
              "      <td>...</td>\n",
              "      <td>22</td>\n",
              "      <td>23</td>\n",
              "      <td>64</td>\n",
              "      <td>79</td>\n",
              "      <td>35</td>\n",
              "      <td>7</td>\n",
              "      <td>1</td>\n",
              "      <td>320.280</td>\n",
              "      <td>5549</td>\n",
              "      <td>129.10</td>\n",
              "    </tr>\n",
              "  </tbody>\n",
              "</table>\n",
              "<p>5 rows × 23 columns</p>\n",
              "</div>\n",
              "      <button class=\"colab-df-convert\" onclick=\"convertToInteractive('df-ea0c3227-1e29-4262-8b67-70b35b434c1b')\"\n",
              "              title=\"Convert this dataframe to an interactive table.\"\n",
              "              style=\"display:none;\">\n",
              "        \n",
              "  <svg xmlns=\"http://www.w3.org/2000/svg\" height=\"24px\"viewBox=\"0 0 24 24\"\n",
              "       width=\"24px\">\n",
              "    <path d=\"M0 0h24v24H0V0z\" fill=\"none\"/>\n",
              "    <path d=\"M18.56 5.44l.94 2.06.94-2.06 2.06-.94-2.06-.94-.94-2.06-.94 2.06-2.06.94zm-11 1L8.5 8.5l.94-2.06 2.06-.94-2.06-.94L8.5 2.5l-.94 2.06-2.06.94zm10 10l.94 2.06.94-2.06 2.06-.94-2.06-.94-.94-2.06-.94 2.06-2.06.94z\"/><path d=\"M17.41 7.96l-1.37-1.37c-.4-.4-.92-.59-1.43-.59-.52 0-1.04.2-1.43.59L10.3 9.45l-7.72 7.72c-.78.78-.78 2.05 0 2.83L4 21.41c.39.39.9.59 1.41.59.51 0 1.02-.2 1.41-.59l7.78-7.78 2.81-2.81c.8-.78.8-2.07 0-2.86zM5.41 20L4 18.59l7.72-7.72 1.47 1.35L5.41 20z\"/>\n",
              "  </svg>\n",
              "      </button>\n",
              "      \n",
              "  <style>\n",
              "    .colab-df-container {\n",
              "      display:flex;\n",
              "      flex-wrap:wrap;\n",
              "      gap: 12px;\n",
              "    }\n",
              "\n",
              "    .colab-df-convert {\n",
              "      background-color: #E8F0FE;\n",
              "      border: none;\n",
              "      border-radius: 50%;\n",
              "      cursor: pointer;\n",
              "      display: none;\n",
              "      fill: #1967D2;\n",
              "      height: 32px;\n",
              "      padding: 0 0 0 0;\n",
              "      width: 32px;\n",
              "    }\n",
              "\n",
              "    .colab-df-convert:hover {\n",
              "      background-color: #E2EBFA;\n",
              "      box-shadow: 0px 1px 2px rgba(60, 64, 67, 0.3), 0px 1px 3px 1px rgba(60, 64, 67, 0.15);\n",
              "      fill: #174EA6;\n",
              "    }\n",
              "\n",
              "    [theme=dark] .colab-df-convert {\n",
              "      background-color: #3B4455;\n",
              "      fill: #D2E3FC;\n",
              "    }\n",
              "\n",
              "    [theme=dark] .colab-df-convert:hover {\n",
              "      background-color: #434B5C;\n",
              "      box-shadow: 0px 1px 3px 1px rgba(0, 0, 0, 0.15);\n",
              "      filter: drop-shadow(0px 1px 2px rgba(0, 0, 0, 0.3));\n",
              "      fill: #FFFFFF;\n",
              "    }\n",
              "  </style>\n",
              "\n",
              "      <script>\n",
              "        const buttonEl =\n",
              "          document.querySelector('#df-ea0c3227-1e29-4262-8b67-70b35b434c1b button.colab-df-convert');\n",
              "        buttonEl.style.display =\n",
              "          google.colab.kernel.accessAllowed ? 'block' : 'none';\n",
              "\n",
              "        async function convertToInteractive(key) {\n",
              "          const element = document.querySelector('#df-ea0c3227-1e29-4262-8b67-70b35b434c1b');\n",
              "          const dataTable =\n",
              "            await google.colab.kernel.invokeFunction('convertToInteractive',\n",
              "                                                     [key], {});\n",
              "          if (!dataTable) return;\n",
              "\n",
              "          const docLinkHtml = 'Like what you see? Visit the ' +\n",
              "            '<a target=\"_blank\" href=https://colab.research.google.com/notebooks/data_table.ipynb>data table notebook</a>'\n",
              "            + ' to learn more about interactive tables.';\n",
              "          element.innerHTML = '';\n",
              "          dataTable['output_type'] = 'display_data';\n",
              "          await google.colab.output.renderOutput(dataTable, element);\n",
              "          const docLink = document.createElement('div');\n",
              "          docLink.innerHTML = docLinkHtml;\n",
              "          element.appendChild(docLink);\n",
              "        }\n",
              "      </script>\n",
              "    </div>\n",
              "  </div>\n",
              "  "
            ],
            "text/plain": [
              "   dept Region    Department  Crime_pers  Crime_prop  Literacy  Donations  \\\n",
              "0     1      E           Ain       28870       15890        37       5098   \n",
              "1     2      N         Aisne       26226        5521        51       8901   \n",
              "2     3      C        Allier       26747        7925        13      10973   \n",
              "3     4      E  Basses-Alpes       12935        7289        46       2733   \n",
              "4     5      E  Hautes-Alpes       17488        8174        69       6962   \n",
              "\n",
              "   Infants  Suicides MainCity  ...  Crime_parents  Infanticide  \\\n",
              "0    33120     35039    2:Med  ...             71           60   \n",
              "1    14572     12831    2:Med  ...              4           82   \n",
              "2    17044    114121    2:Med  ...             46           42   \n",
              "3    23018     14238     1:Sm  ...             70           12   \n",
              "4    23076     16171     1:Sm  ...             22           23   \n",
              "\n",
              "   Donation_clergy  Lottery  Desertion  Instruction  Prostitutes  Distance  \\\n",
              "0               69       41         55           46           13   218.372   \n",
              "1               36       38         82           24          327    65.945   \n",
              "2               76       66         16           85           34   161.927   \n",
              "3               37       80         32           29            2   351.399   \n",
              "4               64       79         35            7            1   320.280   \n",
              "\n",
              "   Area  Pop1831  \n",
              "0  5762   346.03  \n",
              "1  7369   513.00  \n",
              "2  7340   298.26  \n",
              "3  6925   155.90  \n",
              "4  5549   129.10  \n",
              "\n",
              "[5 rows x 23 columns]"
            ]
          },
          "execution_count": 31,
          "metadata": {},
          "output_type": "execute_result"
        }
      ],
      "source": [
        "dat = sm.datasets.get_rdataset(\"Guerry\", \"HistData\").data\n",
        "dat.head()"
      ]
    },
    {
      "cell_type": "code",
      "execution_count": 32,
      "metadata": {
        "colab": {
          "base_uri": "https://localhost:8080/",
          "height": 473
        },
        "id": "hpgEwwmV2WTS",
        "outputId": "d5e41248-9232-445a-a8f2-8548192be691"
      },
      "outputs": [
        {
          "data": {
            "text/html": [
              "<table class=\"simpletable\">\n",
              "<caption>OLS Regression Results</caption>\n",
              "<tr>\n",
              "  <th>Dep. Variable:</th>         <td>Lottery</td>     <th>  R-squared:         </th> <td>   0.348</td>\n",
              "</tr>\n",
              "<tr>\n",
              "  <th>Model:</th>                   <td>OLS</td>       <th>  Adj. R-squared:    </th> <td>   0.333</td>\n",
              "</tr>\n",
              "<tr>\n",
              "  <th>Method:</th>             <td>Least Squares</td>  <th>  F-statistic:       </th> <td>   22.20</td>\n",
              "</tr>\n",
              "<tr>\n",
              "  <th>Date:</th>             <td>Thu, 04 Aug 2022</td> <th>  Prob (F-statistic):</th> <td>1.90e-08</td>\n",
              "</tr>\n",
              "<tr>\n",
              "  <th>Time:</th>                 <td>21:56:22</td>     <th>  Log-Likelihood:    </th> <td> -379.82</td>\n",
              "</tr>\n",
              "<tr>\n",
              "  <th>No. Observations:</th>      <td>    86</td>      <th>  AIC:               </th> <td>   765.6</td>\n",
              "</tr>\n",
              "<tr>\n",
              "  <th>Df Residuals:</th>          <td>    83</td>      <th>  BIC:               </th> <td>   773.0</td>\n",
              "</tr>\n",
              "<tr>\n",
              "  <th>Df Model:</th>              <td>     2</td>      <th>                     </th>     <td> </td>   \n",
              "</tr>\n",
              "<tr>\n",
              "  <th>Covariance Type:</th>      <td>nonrobust</td>    <th>                     </th>     <td> </td>   \n",
              "</tr>\n",
              "</table>\n",
              "<table class=\"simpletable\">\n",
              "<tr>\n",
              "         <td></td>            <th>coef</th>     <th>std err</th>      <th>t</th>      <th>P>|t|</th>  <th>[0.025</th>    <th>0.975]</th>  \n",
              "</tr>\n",
              "<tr>\n",
              "  <th>Intercept</th>       <td>  246.4341</td> <td>   35.233</td> <td>    6.995</td> <td> 0.000</td> <td>  176.358</td> <td>  316.510</td>\n",
              "</tr>\n",
              "<tr>\n",
              "  <th>Literacy</th>        <td>   -0.4889</td> <td>    0.128</td> <td>   -3.832</td> <td> 0.000</td> <td>   -0.743</td> <td>   -0.235</td>\n",
              "</tr>\n",
              "<tr>\n",
              "  <th>np.log(Pop1831)</th> <td>  -31.3114</td> <td>    5.977</td> <td>   -5.239</td> <td> 0.000</td> <td>  -43.199</td> <td>  -19.424</td>\n",
              "</tr>\n",
              "</table>\n",
              "<table class=\"simpletable\">\n",
              "<tr>\n",
              "  <th>Omnibus:</th>       <td> 3.713</td> <th>  Durbin-Watson:     </th> <td>   2.019</td>\n",
              "</tr>\n",
              "<tr>\n",
              "  <th>Prob(Omnibus):</th> <td> 0.156</td> <th>  Jarque-Bera (JB):  </th> <td>   3.394</td>\n",
              "</tr>\n",
              "<tr>\n",
              "  <th>Skew:</th>          <td>-0.487</td> <th>  Prob(JB):          </th> <td>   0.183</td>\n",
              "</tr>\n",
              "<tr>\n",
              "  <th>Kurtosis:</th>      <td> 3.003</td> <th>  Cond. No.          </th> <td>    702.</td>\n",
              "</tr>\n",
              "</table><br/><br/>Warnings:<br/>[1] Standard Errors assume that the covariance matrix of the errors is correctly specified."
            ],
            "text/plain": [
              "<class 'statsmodels.iolib.summary.Summary'>\n",
              "\"\"\"\n",
              "                            OLS Regression Results                            \n",
              "==============================================================================\n",
              "Dep. Variable:                Lottery   R-squared:                       0.348\n",
              "Model:                            OLS   Adj. R-squared:                  0.333\n",
              "Method:                 Least Squares   F-statistic:                     22.20\n",
              "Date:                Thu, 04 Aug 2022   Prob (F-statistic):           1.90e-08\n",
              "Time:                        21:56:22   Log-Likelihood:                -379.82\n",
              "No. Observations:                  86   AIC:                             765.6\n",
              "Df Residuals:                      83   BIC:                             773.0\n",
              "Df Model:                           2                                         \n",
              "Covariance Type:            nonrobust                                         \n",
              "===================================================================================\n",
              "                      coef    std err          t      P>|t|      [0.025      0.975]\n",
              "-----------------------------------------------------------------------------------\n",
              "Intercept         246.4341     35.233      6.995      0.000     176.358     316.510\n",
              "Literacy           -0.4889      0.128     -3.832      0.000      -0.743      -0.235\n",
              "np.log(Pop1831)   -31.3114      5.977     -5.239      0.000     -43.199     -19.424\n",
              "==============================================================================\n",
              "Omnibus:                        3.713   Durbin-Watson:                   2.019\n",
              "Prob(Omnibus):                  0.156   Jarque-Bera (JB):                3.394\n",
              "Skew:                          -0.487   Prob(JB):                        0.183\n",
              "Kurtosis:                       3.003   Cond. No.                         702.\n",
              "==============================================================================\n",
              "\n",
              "Warnings:\n",
              "[1] Standard Errors assume that the covariance matrix of the errors is correctly specified.\n",
              "\"\"\""
            ]
          },
          "execution_count": 32,
          "metadata": {},
          "output_type": "execute_result"
        }
      ],
      "source": [
        "results = smf.ols('Lottery ~ Literacy + np.log(Pop1831)', data=dat).fit()\n",
        "results.summary()"
      ]
    },
    {
      "cell_type": "code",
      "execution_count": 33,
      "metadata": {
        "colab": {
          "base_uri": "https://localhost:8080/",
          "height": 473
        },
        "id": "dfGvlMlX2kcH",
        "outputId": "672e212c-7fb6-4e08-b567-923785047384"
      },
      "outputs": [
        {
          "data": {
            "text/html": [
              "<table class=\"simpletable\">\n",
              "<caption>OLS Regression Results</caption>\n",
              "<tr>\n",
              "  <th>Dep. Variable:</th>            <td>y</td>        <th>  R-squared:         </th> <td>   0.145</td>\n",
              "</tr>\n",
              "<tr>\n",
              "  <th>Model:</th>                   <td>OLS</td>       <th>  Adj. R-squared:    </th> <td>   0.127</td>\n",
              "</tr>\n",
              "<tr>\n",
              "  <th>Method:</th>             <td>Least Squares</td>  <th>  F-statistic:       </th> <td>   8.222</td>\n",
              "</tr>\n",
              "<tr>\n",
              "  <th>Date:</th>             <td>Thu, 04 Aug 2022</td> <th>  Prob (F-statistic):</th> <td>0.000503</td>\n",
              "</tr>\n",
              "<tr>\n",
              "  <th>Time:</th>                 <td>21:56:23</td>     <th>  Log-Likelihood:    </th> <td> -16.640</td>\n",
              "</tr>\n",
              "<tr>\n",
              "  <th>No. Observations:</th>      <td>   100</td>      <th>  AIC:               </th> <td>   39.28</td>\n",
              "</tr>\n",
              "<tr>\n",
              "  <th>Df Residuals:</th>          <td>    97</td>      <th>  BIC:               </th> <td>   47.10</td>\n",
              "</tr>\n",
              "<tr>\n",
              "  <th>Df Model:</th>              <td>     2</td>      <th>                     </th>     <td> </td>   \n",
              "</tr>\n",
              "<tr>\n",
              "  <th>Covariance Type:</th>      <td>nonrobust</td>    <th>                     </th>     <td> </td>   \n",
              "</tr>\n",
              "</table>\n",
              "<table class=\"simpletable\">\n",
              "<tr>\n",
              "    <td></td>       <th>coef</th>     <th>std err</th>      <th>t</th>      <th>P>|t|</th>  <th>[0.025</th>    <th>0.975]</th>  \n",
              "</tr>\n",
              "<tr>\n",
              "  <th>const</th> <td>    1.5992</td> <td>    0.071</td> <td>   22.600</td> <td> 0.000</td> <td>    1.459</td> <td>    1.740</td>\n",
              "</tr>\n",
              "<tr>\n",
              "  <th>x1</th>    <td>   -0.0127</td> <td>    0.098</td> <td>   -0.130</td> <td> 0.897</td> <td>   -0.206</td> <td>    0.181</td>\n",
              "</tr>\n",
              "<tr>\n",
              "  <th>x2</th>    <td>    0.4146</td> <td>    0.103</td> <td>    4.038</td> <td> 0.000</td> <td>    0.211</td> <td>    0.618</td>\n",
              "</tr>\n",
              "</table>\n",
              "<table class=\"simpletable\">\n",
              "<tr>\n",
              "  <th>Omnibus:</th>       <td>15.867</td> <th>  Durbin-Watson:     </th> <td>   2.152</td>\n",
              "</tr>\n",
              "<tr>\n",
              "  <th>Prob(Omnibus):</th> <td> 0.000</td> <th>  Jarque-Bera (JB):  </th> <td>   4.952</td>\n",
              "</tr>\n",
              "<tr>\n",
              "  <th>Skew:</th>          <td>-0.193</td> <th>  Prob(JB):          </th> <td>  0.0841</td>\n",
              "</tr>\n",
              "<tr>\n",
              "  <th>Kurtosis:</th>      <td> 1.980</td> <th>  Cond. No.          </th> <td>    4.89</td>\n",
              "</tr>\n",
              "</table><br/><br/>Warnings:<br/>[1] Standard Errors assume that the covariance matrix of the errors is correctly specified."
            ],
            "text/plain": [
              "<class 'statsmodels.iolib.summary.Summary'>\n",
              "\"\"\"\n",
              "                            OLS Regression Results                            \n",
              "==============================================================================\n",
              "Dep. Variable:                      y   R-squared:                       0.145\n",
              "Model:                            OLS   Adj. R-squared:                  0.127\n",
              "Method:                 Least Squares   F-statistic:                     8.222\n",
              "Date:                Thu, 04 Aug 2022   Prob (F-statistic):           0.000503\n",
              "Time:                        21:56:23   Log-Likelihood:                -16.640\n",
              "No. Observations:                 100   AIC:                             39.28\n",
              "Df Residuals:                      97   BIC:                             47.10\n",
              "Df Model:                           2                                         \n",
              "Covariance Type:            nonrobust                                         \n",
              "==============================================================================\n",
              "                 coef    std err          t      P>|t|      [0.025      0.975]\n",
              "------------------------------------------------------------------------------\n",
              "const          1.5992      0.071     22.600      0.000       1.459       1.740\n",
              "x1            -0.0127      0.098     -0.130      0.897      -0.206       0.181\n",
              "x2             0.4146      0.103      4.038      0.000       0.211       0.618\n",
              "==============================================================================\n",
              "Omnibus:                       15.867   Durbin-Watson:                   2.152\n",
              "Prob(Omnibus):                  0.000   Jarque-Bera (JB):                4.952\n",
              "Skew:                          -0.193   Prob(JB):                       0.0841\n",
              "Kurtosis:                       1.980   Cond. No.                         4.89\n",
              "==============================================================================\n",
              "\n",
              "Warnings:\n",
              "[1] Standard Errors assume that the covariance matrix of the errors is correctly specified.\n",
              "\"\"\""
            ]
          },
          "execution_count": 33,
          "metadata": {},
          "output_type": "execute_result"
        }
      ],
      "source": [
        "nobs = 100\n",
        "X = np.random.random((nobs, 2))\n",
        "X = sm.add_constant(X)\n",
        "beta = [1, .1, .5]\n",
        "e = np.random.random(nobs)\n",
        "y = np.dot(X, beta) + e\n",
        "\n",
        "# Fit regression model\n",
        "results = sm.OLS(y, X).fit()\n",
        "\n",
        "# Inspect the results\n",
        "results.summary()"
      ]
    },
    {
      "cell_type": "markdown",
      "metadata": {
        "id": "usHlQ_zd09lH"
      },
      "source": [
        "# 6. IPyWidgets\n",
        "\n",
        "#### 6.1 Lorenz Attractor: Lorenz System of Differential Equations\n"
      ]
    },
    {
      "cell_type": "code",
      "execution_count": 34,
      "metadata": {
        "id": "f0Mz8Tlp09lH"
      },
      "outputs": [],
      "source": [
        "from ipywidgets import interact, interactive\n",
        "from IPython.display import clear_output, display, HTML\n",
        "\n",
        "import numpy as np\n",
        "from scipy import integrate\n",
        "\n",
        "from matplotlib import pyplot as plt\n",
        "from mpl_toolkits.mplot3d import Axes3D\n",
        "from matplotlib.colors import cnames\n",
        "from matplotlib import animation"
      ]
    },
    {
      "cell_type": "code",
      "execution_count": 35,
      "metadata": {
        "id": "c7lJI1Gx09lI"
      },
      "outputs": [],
      "source": [
        "def solve_lorenz(N=10, angle=0.0, max_time=4.0, sigma=10.0, beta=8./3, rho=28.0):\n",
        "\n",
        "    fig = plt.figure()\n",
        "    ax = fig.add_axes([0, 0, 1, 1], projection='3d')\n",
        "    ax.axis('off')\n",
        "\n",
        "    # prepare the axes limits\n",
        "    ax.set_xlim((-25, 25))\n",
        "    ax.set_ylim((-35, 35))\n",
        "    ax.set_zlim((5, 55))\n",
        "    \n",
        "    def lorenz_deriv(tup, t0, sigma=sigma, beta=beta, rho=rho):\n",
        "        x, y, z = tup\n",
        "        \"\"\"Compute the time-derivative of a Lorentz system.\"\"\"\n",
        "        return [sigma * (y - x), x * (rho - z) - y, x * y - beta * z]\n",
        "\n",
        "    # Choose random starting points, uniformly distributed from -15 to 15\n",
        "    np.random.seed(1)\n",
        "    x0 = -15 + 30 * np.random.random((N, 3))\n",
        "\n",
        "    # Solve for the trajectories\n",
        "    t = np.linspace(0, max_time, int(250*max_time))\n",
        "    x_t = np.asarray([integrate.odeint(lorenz_deriv, x0i, t)\n",
        "                      for x0i in x0])\n",
        "    \n",
        "    # choose a different color for each trajectory\n",
        "    colors = plt.cm.jet(np.linspace(0, 1, N))\n",
        "\n",
        "    for i in range(N):\n",
        "        x, y, z = x_t[i,:,:].T\n",
        "        lines = ax.plot(x, y, z, '-', c=colors[i])\n",
        "        plt.setp(lines, linewidth=2)\n",
        "\n",
        "    ax.view_init(30, angle)\n",
        "    plt.show()\n",
        "\n",
        "    return t, x_t"
      ]
    },
    {
      "cell_type": "code",
      "execution_count": 36,
      "metadata": {
        "colab": {
          "base_uri": "https://localhost:8080/",
          "height": 319
        },
        "id": "g6kEH2fu09lI",
        "outputId": "9b013db9-9e63-49f2-f5ec-e4c4739c6389"
      },
      "outputs": [
        {
          "data": {
            "image/png": "[encoded data removed]",
            "text/plain": [
              "<Figure size 432x288 with 1 Axes>"
            ]
          },
          "metadata": {},
          "output_type": "display_data"
        }
      ],
      "source": [
        "t, x_t = solve_lorenz(angle=0, N=10)"
      ]
    },
    {
      "cell_type": "code",
      "execution_count": 37,
      "metadata": {
        "colab": {
          "base_uri": "https://localhost:8080/",
          "height": 511,
          "referenced_widgets": [
            "10d7edb031724219bd3485bc217c983b",
            "a20b4d1584324d839976f5b873c12e9d",
            "7ca6025ebb154101a1cd87797b40c478",
            "f44c0a8eb2b943cb8b82a1358649d93c",
            "445611a92b3a4ba7bfba3c61351dbfdb",
            "1ac94c2d5073442baab6eb82bb380062",
            "600e9578f36f4e069af2e2aec5d79710",
            "9fa3ba428d9a4d0aae07cfcf773275b0",
            "263de5668aca480dafb809a622174423",
            "50c91c80efe34e6f92104a30a5534283",
            "5e9d20a7a3f64a099469f240ab03e9e3",
            "5d00c7ae99574eee9fbd71fa6e0bc14e",
            "50c7967b298d47b8914bd9074110958f",
            "db4b106290b44620b89e0df2a6b20cb5",
            "c0749f40b65546faa0d9679878346975",
            "8536b036e1094524bf71249b32a53de3",
            "ff5da39a9ea64b859c6fcf678438adf3",
            "a66a1aec49334a719734bfefbd3280ec",
            "cacef69bf5ee438a8b758343ca6ed1d8",
            "46c55bdfd4a7455ca19ad94c3fb2f0e4",
            "cd05e9fcaec4443bbcc7ebedbf755230",
            "3a53a6ea1a4d4617aab129ab7abe8f12"
          ]
        },
        "id": "9uXKW5YE09lI",
        "outputId": "196c63ce-561b-458d-8b00-84cd91e1954a"
      },
      "outputs": [
        {
          "data": {
            "application/vnd.jupyter.widget-view+json": {
              "model_id": "10d7edb031724219bd3485bc217c983b",
              "version_major": 2,
              "version_minor": 0
            },
            "text/plain": [
              "interactive(children=(IntSlider(value=10, description='N', max=50), FloatSlider(value=0.0, description='angle'…"
            ]
          },
          "metadata": {},
          "output_type": "display_data"
        }
      ],
      "source": [
        "w = interactive(solve_lorenz, angle=(0.,360.), N=(0,50), sigma=(0.0,50.0), rho=(0.0,50.0))\n",
        "display(w)"
      ]
    },
    {
      "cell_type": "markdown",
      "metadata": {
        "id": "cn5V9OLk09lI"
      },
      "source": [
        "#### 6.2 Mean-Variance Portfolio Analysis"
      ]
    },
    {
      "cell_type": "code",
      "execution_count": 38,
      "metadata": {
        "id": "9bMd4ifk09lJ"
      },
      "outputs": [],
      "source": [
        "from ipywidgets import interact, interactive, fixed, interact_manual\n",
        "import ipywidgets as widgets\n",
        "import numpy as np\n",
        "from matplotlib import pyplot as plt\n",
        "\n",
        "def plot_portfolio(weight_1=.5, R0=4.0, R1=8.0, sd0=5.0, sd1=10.0, corr=0.0):\n",
        "    \n",
        "    #calculate portfolio properties\n",
        "    expected_return = lambda a: a * R1 + (1-a) * R0\n",
        "    add_sd = lambda a: np.sqrt((1-a)**2 * sd0**2 + a**2 * sd1**2 \n",
        "                            + 2*a*(1-a)*corr*sd0 * sd1)\n",
        "    \n",
        "    #calculate frontier\n",
        "    weight_1_range = np.linspace(-2.0, 2.0, 100)\n",
        "    y = expected_return(weight_1_range)\n",
        "    x = add_sd(weight_1_range)\n",
        "    \n",
        "    #Plot frontier and points\n",
        "    fig, ax = plt.subplots()\n",
        "    ax.plot(x, y)\n",
        "    ax.plot([sd0, sd1], [R0, R1], 'o')\n",
        "    ax.axis([0, 15, -2, 10])\n",
        "    ax.plot([add_sd(weight_1)], [expected_return(weight_1)], 'o')\n",
        "    plt.xlabel('standard deviation')\n",
        "    plt.ylabel('expected return')"
      ]
    },
    {
      "cell_type": "code",
      "execution_count": 39,
      "metadata": {
        "colab": {
          "base_uri": "https://localhost:8080/",
          "height": 498,
          "referenced_widgets": [
            "4f97109d621b463d8f66be7e9ff8843a",
            "f4e7058ea76f401290eb65549313b666",
            "a6774f5516ad49169b944ed54ae2cce1",
            "8ef4fdff0b224092b120ff706067bc6e",
            "f09f57b162c941efae1dbafb3024f869",
            "015713c5dc0740f7a47d869d088637eb",
            "8f668a6d79054f6089c3cbc3688b864c",
            "3d77360597224bff9681f16b10644f53",
            "d466584dcec64b2db9388d9824afd9f9",
            "8d16bacfae4e4ae3904da6d84e558645",
            "b1f1dbcdb67747abb29275668c73c27d",
            "4f8e2a2646f04a78a4b8038c68a2b081",
            "5a0d56b80566442b93d48853f4357452",
            "6a447abdd8944befa104103c38fd29cd",
            "c5726e5b3b9f4fa6a3028eebe0fd032b",
            "d50a47527bab4f0cbb0932fa48982460",
            "be3b624b6a164b14887daeceb33a3847",
            "d779a8f6578b4ceaa05da0092bff35bd",
            "e513691c952043d2a4e73d66074b24d1",
            "c32d40263cc64998980e2db0b6f37e38",
            "4ba6e2ab13a549f7a1936aba20ed8de7",
            "cf89c5ba7b9d43cd9a4c053b4d42fcf6"
          ]
        },
        "id": "-wHNbk0y09lJ",
        "outputId": "abd9d3e1-af41-4204-bd01-40fe1faafa94"
      },
      "outputs": [
        {
          "data": {
            "application/vnd.jupyter.widget-view+json": {
              "model_id": "4f97109d621b463d8f66be7e9ff8843a",
              "version_major": 2,
              "version_minor": 0
            },
            "text/plain": [
              "interactive(children=(FloatSlider(value=0.5, description='weight_1', max=2.0, min=-1.0, step=0.001), FloatSlid…"
            ]
          },
          "metadata": {},
          "output_type": "display_data"
        },
        {
          "data": {
            "text/plain": [
              "<function __main__.plot_portfolio>"
            ]
          },
          "execution_count": 39,
          "metadata": {},
          "output_type": "execute_result"
        }
      ],
      "source": [
        "interact(plot_portfolio, weight_1=(-1.0, 2.0, .001), corr=(-1.0, 1.0, .01))"
      ]
    },
    {
      "cell_type": "markdown",
      "metadata": {
        "id": "vcJ8kzct09lK"
      },
      "source": [
        "## 7. To do before next class\n",
        "\n",
        "If you need help installing this software, please email me or ask for help in the discussion section on Canvas.\n",
        "\n",
        " - Python 3.9, Anaconda Distribution\n",
        "   - For this class, please download the [Anaconda distribution of Python](https://www.anaconda.com/products/distribution). Be sure to download Python, version 3.9. \n",
        "   When you install Anaconda, be sure to install the full Anaconda distribution. \n",
        "   The MiniConda version is nice, but I only recommend it for advanced users.\n",
        " - The Visual Studio Code text editor\n",
        "   - A good text editor is important for software development. Some of your classes will use a fully-fledged Integrated Development Environment (IDE) like PyCharm. For this review, I suggest Visual Studio Code. You can download it here: https://code.visualstudio.com/\n",
        " - Git (optional, but recommended)\n",
        "   - Although there are many different Git clients and Git GUI's that you could use,\n",
        "   I prefer that you install GitKraken. GitKraken bundles a Git Client with its GUI, so you don't need to install multiple pieces of software. [GitKraken can be downloaded here.](https://www.gitkraken.com/)\n",
        "   - Some classes will use GitHub. GitHub is a website that allows you to store, interactic with, and share your Git repositories online. [Please register an account with GitHub](https://github.com/) if you don't already have one."
      ]
    },
    {
      "cell_type": "code",
      "execution_count": null,
      "metadata": {
        "id": "T2nRoC5w1bvW"
      },
      "outputs": [],
      "source": []
    }
  ],
  "metadata": {
    "colab": {
      "collapsed_sections": [],
      "name": "python_jupyter_demo.ipynb",
      "provenance": []
    },
    "kernelspec": {
      "display_name": "Python 3.7.10 ('base')",
      "language": "python",
      "name": "python3"
    },
    "language_info": {
      "codemirror_mode": {
        "name": "ipython",
        "version": 3
      },
      "file_extension": ".py",
      "mimetype": "text/x-python",
      "name": "python",
      "nbconvert_exporter": "python",
      "pygments_lexer": "ipython3",
      "version": "3.7.10"
    },
    "orig_nbformat": 4,
    "vscode": {
      "interpreter": {
        "hash": "fec0c7fcb2b9e65a5a8d0959c5ea3444d5d33c53b26245760bca5dc58701c93f"
      }
    },
    "widgets": {
      "application/vnd.jupyter.widget-state+json": {
        "015713c5dc0740f7a47d869d088637eb": {
          "model_module": "@jupyter-widgets/controls",
          "model_module_version": "1.5.0",
          "model_name": "FloatSliderModel",
          "state": {
            "_dom_classes": [],
            "_model_module": "@jupyter-widgets/controls",
            "_model_module_version": "1.5.0",
            "_model_name": "FloatSliderModel",
            "_view_count": null,
            "_view_module": "@jupyter-widgets/controls",
            "_view_module_version": "1.5.0",
            "_view_name": "FloatSliderView",
            "continuous_update": true,
            "description": "sd1",
            "description_tooltip": null,
            "disabled": false,
            "layout": "IPY_MODEL_d779a8f6578b4ceaa05da0092bff35bd",
            "max": 30,
            "min": -10,
            "orientation": "horizontal",
            "readout": true,
            "readout_format": ".2f",
            "step": 0.1,
            "style": "IPY_MODEL_e513691c952043d2a4e73d66074b24d1",
            "value": 10
          }
        },
        "10d7edb031724219bd3485bc217c983b": {
          "model_module": "@jupyter-widgets/controls",
          "model_module_version": "1.5.0",
          "model_name": "VBoxModel",
          "state": {
            "_dom_classes": [
              "widget-interact"
            ],
            "_model_module": "@jupyter-widgets/controls",
            "_model_module_version": "1.5.0",
            "_model_name": "VBoxModel",
            "_view_count": null,
            "_view_module": "@jupyter-widgets/controls",
            "_view_module_version": "1.5.0",
            "_view_name": "VBoxView",
            "box_style": "",
            "children": [
              "IPY_MODEL_a20b4d1584324d839976f5b873c12e9d",
              "IPY_MODEL_7ca6025ebb154101a1cd87797b40c478",
              "IPY_MODEL_f44c0a8eb2b943cb8b82a1358649d93c",
              "IPY_MODEL_445611a92b3a4ba7bfba3c61351dbfdb",
              "IPY_MODEL_1ac94c2d5073442baab6eb82bb380062",
              "IPY_MODEL_600e9578f36f4e069af2e2aec5d79710",
              "IPY_MODEL_9fa3ba428d9a4d0aae07cfcf773275b0"
            ],
            "layout": "IPY_MODEL_263de5668aca480dafb809a622174423"
          }
        },
        "1ac94c2d5073442baab6eb82bb380062": {
          "model_module": "@jupyter-widgets/controls",
          "model_module_version": "1.5.0",
          "model_name": "FloatSliderModel",
          "state": {
            "_dom_classes": [],
            "_model_module": "@jupyter-widgets/controls",
            "_model_module_version": "1.5.0",
            "_model_name": "FloatSliderModel",
            "_view_count": null,
            "_view_module": "@jupyter-widgets/controls",
            "_view_module_version": "1.5.0",
            "_view_name": "FloatSliderView",
            "continuous_update": true,
            "description": "beta",
            "description_tooltip": null,
            "disabled": false,
            "layout": "IPY_MODEL_a66a1aec49334a719734bfefbd3280ec",
            "max": 8,
            "min": -2.6666666666666665,
            "orientation": "horizontal",
            "readout": true,
            "readout_format": ".2f",
            "step": 0.1,
            "style": "IPY_MODEL_cacef69bf5ee438a8b758343ca6ed1d8",
            "value": 2.6666666666666665
          }
        },
        "263de5668aca480dafb809a622174423": {
          "model_module": "@jupyter-widgets/base",
          "model_module_version": "1.2.0",
          "model_name": "LayoutModel",
          "state": {
            "_model_module": "@jupyter-widgets/base",
            "_model_module_version": "1.2.0",
            "_model_name": "LayoutModel",
            "_view_count": null,
            "_view_module": "@jupyter-widgets/base",
            "_view_module_version": "1.2.0",
            "_view_name": "LayoutView",
            "align_content": null,
            "align_items": null,
            "align_self": null,
            "border": null,
            "bottom": null,
            "display": null,
            "flex": null,
            "flex_flow": null,
            "grid_area": null,
            "grid_auto_columns": null,
            "grid_auto_flow": null,
            "grid_auto_rows": null,
            "grid_column": null,
            "grid_gap": null,
            "grid_row": null,
            "grid_template_areas": null,
            "grid_template_columns": null,
            "grid_template_rows": null,
            "height": null,
            "justify_content": null,
            "justify_items": null,
            "left": null,
            "margin": null,
            "max_height": null,
            "max_width": null,
            "min_height": null,
            "min_width": null,
            "object_fit": null,
            "object_position": null,
            "order": null,
            "overflow": null,
            "overflow_x": null,
            "overflow_y": null,
            "padding": null,
            "right": null,
            "top": null,
            "visibility": null,
            "width": null
          }
        },
        "3a53a6ea1a4d4617aab129ab7abe8f12": {
          "model_module": "@jupyter-widgets/base",
          "model_module_version": "1.2.0",
          "model_name": "LayoutModel",
          "state": {
            "_model_module": "@jupyter-widgets/base",
            "_model_module_version": "1.2.0",
            "_model_name": "LayoutModel",
            "_view_count": null,
            "_view_module": "@jupyter-widgets/base",
            "_view_module_version": "1.2.0",
            "_view_name": "LayoutView",
            "align_content": null,
            "align_items": null,
            "align_self": null,
            "border": null,
            "bottom": null,
            "display": null,
            "flex": null,
            "flex_flow": null,
            "grid_area": null,
            "grid_auto_columns": null,
            "grid_auto_flow": null,
            "grid_auto_rows": null,
            "grid_column": null,
            "grid_gap": null,
            "grid_row": null,
            "grid_template_areas": null,
            "grid_template_columns": null,
            "grid_template_rows": null,
            "height": null,
            "justify_content": null,
            "justify_items": null,
            "left": null,
            "margin": null,
            "max_height": null,
            "max_width": null,
            "min_height": null,
            "min_width": null,
            "object_fit": null,
            "object_position": null,
            "order": null,
            "overflow": null,
            "overflow_x": null,
            "overflow_y": null,
            "padding": null,
            "right": null,
            "top": null,
            "visibility": null,
            "width": null
          }
        },
        "3d77360597224bff9681f16b10644f53": {
          "model_module": "@jupyter-widgets/output",
          "model_module_version": "1.0.0",
          "model_name": "OutputModel",
          "state": {
            "_dom_classes": [],
            "_model_module": "@jupyter-widgets/output",
            "_model_module_version": "1.0.0",
            "_model_name": "OutputModel",
            "_view_count": null,
            "_view_module": "@jupyter-widgets/output",
            "_view_module_version": "1.0.0",
            "_view_name": "OutputView",
            "layout": "IPY_MODEL_cf89c5ba7b9d43cd9a4c053b4d42fcf6",
            "msg_id": "",
            "outputs": [
              {
                "data": {
                  "image/png": "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\n",
                  "text/plain": "<Figure size 432x288 with 1 Axes>"
                },
                "metadata": {},
                "output_type": "display_data"
              }
            ]
          }
        },
        "445611a92b3a4ba7bfba3c61351dbfdb": {
          "model_module": "@jupyter-widgets/controls",
          "model_module_version": "1.5.0",
          "model_name": "FloatSliderModel",
          "state": {
            "_dom_classes": [],
            "_model_module": "@jupyter-widgets/controls",
            "_model_module_version": "1.5.0",
            "_model_name": "FloatSliderModel",
            "_view_count": null,
            "_view_module": "@jupyter-widgets/controls",
            "_view_module_version": "1.5.0",
            "_view_name": "FloatSliderView",
            "continuous_update": true,
            "description": "sigma",
            "description_tooltip": null,
            "disabled": false,
            "layout": "IPY_MODEL_8536b036e1094524bf71249b32a53de3",
            "max": 50,
            "min": 0,
            "orientation": "horizontal",
            "readout": true,
            "readout_format": ".2f",
            "step": 0.1,
            "style": "IPY_MODEL_ff5da39a9ea64b859c6fcf678438adf3",
            "value": 10
          }
        },
        "46c55bdfd4a7455ca19ad94c3fb2f0e4": {
          "model_module": "@jupyter-widgets/base",
          "model_module_version": "1.2.0",
          "model_name": "LayoutModel",
          "state": {
            "_model_module": "@jupyter-widgets/base",
            "_model_module_version": "1.2.0",
            "_model_name": "LayoutModel",
            "_view_count": null,
            "_view_module": "@jupyter-widgets/base",
            "_view_module_version": "1.2.0",
            "_view_name": "LayoutView",
            "align_content": null,
            "align_items": null,
            "align_self": null,
            "border": null,
            "bottom": null,
            "display": null,
            "flex": null,
            "flex_flow": null,
            "grid_area": null,
            "grid_auto_columns": null,
            "grid_auto_flow": null,
            "grid_auto_rows": null,
            "grid_column": null,
            "grid_gap": null,
            "grid_row": null,
            "grid_template_areas": null,
            "grid_template_columns": null,
            "grid_template_rows": null,
            "height": null,
            "justify_content": null,
            "justify_items": null,
            "left": null,
            "margin": null,
            "max_height": null,
            "max_width": null,
            "min_height": null,
            "min_width": null,
            "object_fit": null,
            "object_position": null,
            "order": null,
            "overflow": null,
            "overflow_x": null,
            "overflow_y": null,
            "padding": null,
            "right": null,
            "top": null,
            "visibility": null,
            "width": null
          }
        },
        "4ba6e2ab13a549f7a1936aba20ed8de7": {
          "model_module": "@jupyter-widgets/controls",
          "model_module_version": "1.5.0",
          "model_name": "SliderStyleModel",
          "state": {
            "_model_module": "@jupyter-widgets/controls",
            "_model_module_version": "1.5.0",
            "_model_name": "SliderStyleModel",
            "_view_count": null,
            "_view_module": "@jupyter-widgets/base",
            "_view_module_version": "1.2.0",
            "_view_name": "StyleView",
            "description_width": "",
            "handle_color": null
          }
        },
        "4f8e2a2646f04a78a4b8038c68a2b081": {
          "model_module": "@jupyter-widgets/base",
          "model_module_version": "1.2.0",
          "model_name": "LayoutModel",
          "state": {
            "_model_module": "@jupyter-widgets/base",
            "_model_module_version": "1.2.0",
            "_model_name": "LayoutModel",
            "_view_count": null,
            "_view_module": "@jupyter-widgets/base",
            "_view_module_version": "1.2.0",
            "_view_name": "LayoutView",
            "align_content": null,
            "align_items": null,
            "align_self": null,
            "border": null,
            "bottom": null,
            "display": null,
            "flex": null,
            "flex_flow": null,
            "grid_area": null,
            "grid_auto_columns": null,
            "grid_auto_flow": null,
            "grid_auto_rows": null,
            "grid_column": null,
            "grid_gap": null,
            "grid_row": null,
            "grid_template_areas": null,
            "grid_template_columns": null,
            "grid_template_rows": null,
            "height": null,
            "justify_content": null,
            "justify_items": null,
            "left": null,
            "margin": null,
            "max_height": null,
            "max_width": null,
            "min_height": null,
            "min_width": null,
            "object_fit": null,
            "object_position": null,
            "order": null,
            "overflow": null,
            "overflow_x": null,
            "overflow_y": null,
            "padding": null,
            "right": null,
            "top": null,
            "visibility": null,
            "width": null
          }
        },
        "4f97109d621b463d8f66be7e9ff8843a": {
          "model_module": "@jupyter-widgets/controls",
          "model_module_version": "1.5.0",
          "model_name": "VBoxModel",
          "state": {
            "_dom_classes": [
              "widget-interact"
            ],
            "_model_module": "@jupyter-widgets/controls",
            "_model_module_version": "1.5.0",
            "_model_name": "VBoxModel",
            "_view_count": null,
            "_view_module": "@jupyter-widgets/controls",
            "_view_module_version": "1.5.0",
            "_view_name": "VBoxView",
            "box_style": "",
            "children": [
              "IPY_MODEL_f4e7058ea76f401290eb65549313b666",
              "IPY_MODEL_a6774f5516ad49169b944ed54ae2cce1",
              "IPY_MODEL_8ef4fdff0b224092b120ff706067bc6e",
              "IPY_MODEL_f09f57b162c941efae1dbafb3024f869",
              "IPY_MODEL_015713c5dc0740f7a47d869d088637eb",
              "IPY_MODEL_8f668a6d79054f6089c3cbc3688b864c",
              "IPY_MODEL_3d77360597224bff9681f16b10644f53"
            ],
            "layout": "IPY_MODEL_d466584dcec64b2db9388d9824afd9f9"
          }
        },
        "50c7967b298d47b8914bd9074110958f": {
          "model_module": "@jupyter-widgets/controls",
          "model_module_version": "1.5.0",
          "model_name": "SliderStyleModel",
          "state": {
            "_model_module": "@jupyter-widgets/controls",
            "_model_module_version": "1.5.0",
            "_model_name": "SliderStyleModel",
            "_view_count": null,
            "_view_module": "@jupyter-widgets/base",
            "_view_module_version": "1.2.0",
            "_view_name": "StyleView",
            "description_width": "",
            "handle_color": null
          }
        },
        "50c91c80efe34e6f92104a30a5534283": {
          "model_module": "@jupyter-widgets/base",
          "model_module_version": "1.2.0",
          "model_name": "LayoutModel",
          "state": {
            "_model_module": "@jupyter-widgets/base",
            "_model_module_version": "1.2.0",
            "_model_name": "LayoutModel",
            "_view_count": null,
            "_view_module": "@jupyter-widgets/base",
            "_view_module_version": "1.2.0",
            "_view_name": "LayoutView",
            "align_content": null,
            "align_items": null,
            "align_self": null,
            "border": null,
            "bottom": null,
            "display": null,
            "flex": null,
            "flex_flow": null,
            "grid_area": null,
            "grid_auto_columns": null,
            "grid_auto_flow": null,
            "grid_auto_rows": null,
            "grid_column": null,
            "grid_gap": null,
            "grid_row": null,
            "grid_template_areas": null,
            "grid_template_columns": null,
            "grid_template_rows": null,
            "height": null,
            "justify_content": null,
            "justify_items": null,
            "left": null,
            "margin": null,
            "max_height": null,
            "max_width": null,
            "min_height": null,
            "min_width": null,
            "object_fit": null,
            "object_position": null,
            "order": null,
            "overflow": null,
            "overflow_x": null,
            "overflow_y": null,
            "padding": null,
            "right": null,
            "top": null,
            "visibility": null,
            "width": null
          }
        },
        "5a0d56b80566442b93d48853f4357452": {
          "model_module": "@jupyter-widgets/controls",
          "model_module_version": "1.5.0",
          "model_name": "SliderStyleModel",
          "state": {
            "_model_module": "@jupyter-widgets/controls",
            "_model_module_version": "1.5.0",
            "_model_name": "SliderStyleModel",
            "_view_count": null,
            "_view_module": "@jupyter-widgets/base",
            "_view_module_version": "1.2.0",
            "_view_name": "StyleView",
            "description_width": "",
            "handle_color": null
          }
        },
        "5d00c7ae99574eee9fbd71fa6e0bc14e": {
          "model_module": "@jupyter-widgets/base",
          "model_module_version": "1.2.0",
          "model_name": "LayoutModel",
          "state": {
            "_model_module": "@jupyter-widgets/base",
            "_model_module_version": "1.2.0",
            "_model_name": "LayoutModel",
            "_view_count": null,
            "_view_module": "@jupyter-widgets/base",
            "_view_module_version": "1.2.0",
            "_view_name": "LayoutView",
            "align_content": null,
            "align_items": null,
            "align_self": null,
            "border": null,
            "bottom": null,
            "display": null,
            "flex": null,
            "flex_flow": null,
            "grid_area": null,
            "grid_auto_columns": null,
            "grid_auto_flow": null,
            "grid_auto_rows": null,
            "grid_column": null,
            "grid_gap": null,
            "grid_row": null,
            "grid_template_areas": null,
            "grid_template_columns": null,
            "grid_template_rows": null,
            "height": null,
            "justify_content": null,
            "justify_items": null,
            "left": null,
            "margin": null,
            "max_height": null,
            "max_width": null,
            "min_height": null,
            "min_width": null,
            "object_fit": null,
            "object_position": null,
            "order": null,
            "overflow": null,
            "overflow_x": null,
            "overflow_y": null,
            "padding": null,
            "right": null,
            "top": null,
            "visibility": null,
            "width": null
          }
        },
        "5e9d20a7a3f64a099469f240ab03e9e3": {
          "model_module": "@jupyter-widgets/controls",
          "model_module_version": "1.5.0",
          "model_name": "SliderStyleModel",
          "state": {
            "_model_module": "@jupyter-widgets/controls",
            "_model_module_version": "1.5.0",
            "_model_name": "SliderStyleModel",
            "_view_count": null,
            "_view_module": "@jupyter-widgets/base",
            "_view_module_version": "1.2.0",
            "_view_name": "StyleView",
            "description_width": "",
            "handle_color": null
          }
        },
        "600e9578f36f4e069af2e2aec5d79710": {
          "model_module": "@jupyter-widgets/controls",
          "model_module_version": "1.5.0",
          "model_name": "FloatSliderModel",
          "state": {
            "_dom_classes": [],
            "_model_module": "@jupyter-widgets/controls",
            "_model_module_version": "1.5.0",
            "_model_name": "FloatSliderModel",
            "_view_count": null,
            "_view_module": "@jupyter-widgets/controls",
            "_view_module_version": "1.5.0",
            "_view_name": "FloatSliderView",
            "continuous_update": true,
            "description": "rho",
            "description_tooltip": null,
            "disabled": false,
            "layout": "IPY_MODEL_46c55bdfd4a7455ca19ad94c3fb2f0e4",
            "max": 50,
            "min": 0,
            "orientation": "horizontal",
            "readout": true,
            "readout_format": ".2f",
            "step": 0.1,
            "style": "IPY_MODEL_cd05e9fcaec4443bbcc7ebedbf755230",
            "value": 28
          }
        },
        "6a447abdd8944befa104103c38fd29cd": {
          "model_module": "@jupyter-widgets/base",
          "model_module_version": "1.2.0",
          "model_name": "LayoutModel",
          "state": {
            "_model_module": "@jupyter-widgets/base",
            "_model_module_version": "1.2.0",
            "_model_name": "LayoutModel",
            "_view_count": null,
            "_view_module": "@jupyter-widgets/base",
            "_view_module_version": "1.2.0",
            "_view_name": "LayoutView",
            "align_content": null,
            "align_items": null,
            "align_self": null,
            "border": null,
            "bottom": null,
            "display": null,
            "flex": null,
            "flex_flow": null,
            "grid_area": null,
            "grid_auto_columns": null,
            "grid_auto_flow": null,
            "grid_auto_rows": null,
            "grid_column": null,
            "grid_gap": null,
            "grid_row": null,
            "grid_template_areas": null,
            "grid_template_columns": null,
            "grid_template_rows": null,
            "height": null,
            "justify_content": null,
            "justify_items": null,
            "left": null,
            "margin": null,
            "max_height": null,
            "max_width": null,
            "min_height": null,
            "min_width": null,
            "object_fit": null,
            "object_position": null,
            "order": null,
            "overflow": null,
            "overflow_x": null,
            "overflow_y": null,
            "padding": null,
            "right": null,
            "top": null,
            "visibility": null,
            "width": null
          }
        },
        "7ca6025ebb154101a1cd87797b40c478": {
          "model_module": "@jupyter-widgets/controls",
          "model_module_version": "1.5.0",
          "model_name": "FloatSliderModel",
          "state": {
            "_dom_classes": [],
            "_model_module": "@jupyter-widgets/controls",
            "_model_module_version": "1.5.0",
            "_model_name": "FloatSliderModel",
            "_view_count": null,
            "_view_module": "@jupyter-widgets/controls",
            "_view_module_version": "1.5.0",
            "_view_name": "FloatSliderView",
            "continuous_update": true,
            "description": "angle",
            "description_tooltip": null,
            "disabled": false,
            "layout": "IPY_MODEL_5d00c7ae99574eee9fbd71fa6e0bc14e",
            "max": 360,
            "min": 0,
            "orientation": "horizontal",
            "readout": true,
            "readout_format": ".2f",
            "step": 0.1,
            "style": "IPY_MODEL_50c7967b298d47b8914bd9074110958f",
            "value": 94.1
          }
        },
        "8536b036e1094524bf71249b32a53de3": {
          "model_module": "@jupyter-widgets/base",
          "model_module_version": "1.2.0",
          "model_name": "LayoutModel",
          "state": {
            "_model_module": "@jupyter-widgets/base",
            "_model_module_version": "1.2.0",
            "_model_name": "LayoutModel",
            "_view_count": null,
            "_view_module": "@jupyter-widgets/base",
            "_view_module_version": "1.2.0",
            "_view_name": "LayoutView",
            "align_content": null,
            "align_items": null,
            "align_self": null,
            "border": null,
            "bottom": null,
            "display": null,
            "flex": null,
            "flex_flow": null,
            "grid_area": null,
            "grid_auto_columns": null,
            "grid_auto_flow": null,
            "grid_auto_rows": null,
            "grid_column": null,
            "grid_gap": null,
            "grid_row": null,
            "grid_template_areas": null,
            "grid_template_columns": null,
            "grid_template_rows": null,
            "height": null,
            "justify_content": null,
            "justify_items": null,
            "left": null,
            "margin": null,
            "max_height": null,
            "max_width": null,
            "min_height": null,
            "min_width": null,
            "object_fit": null,
            "object_position": null,
            "order": null,
            "overflow": null,
            "overflow_x": null,
            "overflow_y": null,
            "padding": null,
            "right": null,
            "top": null,
            "visibility": null,
            "width": null
          }
        },
        "8d16bacfae4e4ae3904da6d84e558645": {
          "model_module": "@jupyter-widgets/base",
          "model_module_version": "1.2.0",
          "model_name": "LayoutModel",
          "state": {
            "_model_module": "@jupyter-widgets/base",
            "_model_module_version": "1.2.0",
            "_model_name": "LayoutModel",
            "_view_count": null,
            "_view_module": "@jupyter-widgets/base",
            "_view_module_version": "1.2.0",
            "_view_name": "LayoutView",
            "align_content": null,
            "align_items": null,
            "align_self": null,
            "border": null,
            "bottom": null,
            "display": null,
            "flex": null,
            "flex_flow": null,
            "grid_area": null,
            "grid_auto_columns": null,
            "grid_auto_flow": null,
            "grid_auto_rows": null,
            "grid_column": null,
            "grid_gap": null,
            "grid_row": null,
            "grid_template_areas": null,
            "grid_template_columns": null,
            "grid_template_rows": null,
            "height": null,
            "justify_content": null,
            "justify_items": null,
            "left": null,
            "margin": null,
            "max_height": null,
            "max_width": null,
            "min_height": null,
            "min_width": null,
            "object_fit": null,
            "object_position": null,
            "order": null,
            "overflow": null,
            "overflow_x": null,
            "overflow_y": null,
            "padding": null,
            "right": null,
            "top": null,
            "visibility": null,
            "width": null
          }
        },
        "8ef4fdff0b224092b120ff706067bc6e": {
          "model_module": "@jupyter-widgets/controls",
          "model_module_version": "1.5.0",
          "model_name": "FloatSliderModel",
          "state": {
            "_dom_classes": [],
            "_model_module": "@jupyter-widgets/controls",
            "_model_module_version": "1.5.0",
            "_model_name": "FloatSliderModel",
            "_view_count": null,
            "_view_module": "@jupyter-widgets/controls",
            "_view_module_version": "1.5.0",
            "_view_name": "FloatSliderView",
            "continuous_update": true,
            "description": "R1",
            "description_tooltip": null,
            "disabled": false,
            "layout": "IPY_MODEL_6a447abdd8944befa104103c38fd29cd",
            "max": 24,
            "min": -8,
            "orientation": "horizontal",
            "readout": true,
            "readout_format": ".2f",
            "step": 0.1,
            "style": "IPY_MODEL_c5726e5b3b9f4fa6a3028eebe0fd032b",
            "value": 8
          }
        },
        "8f668a6d79054f6089c3cbc3688b864c": {
          "model_module": "@jupyter-widgets/controls",
          "model_module_version": "1.5.0",
          "model_name": "FloatSliderModel",
          "state": {
            "_dom_classes": [],
            "_model_module": "@jupyter-widgets/controls",
            "_model_module_version": "1.5.0",
            "_model_name": "FloatSliderModel",
            "_view_count": null,
            "_view_module": "@jupyter-widgets/controls",
            "_view_module_version": "1.5.0",
            "_view_name": "FloatSliderView",
            "continuous_update": true,
            "description": "corr",
            "description_tooltip": null,
            "disabled": false,
            "layout": "IPY_MODEL_c32d40263cc64998980e2db0b6f37e38",
            "max": 1,
            "min": -1,
            "orientation": "horizontal",
            "readout": true,
            "readout_format": ".2f",
            "step": 0.01,
            "style": "IPY_MODEL_4ba6e2ab13a549f7a1936aba20ed8de7",
            "value": 0
          }
        },
        "9fa3ba428d9a4d0aae07cfcf773275b0": {
          "model_module": "@jupyter-widgets/output",
          "model_module_version": "1.0.0",
          "model_name": "OutputModel",
          "state": {
            "_dom_classes": [],
            "_model_module": "@jupyter-widgets/output",
            "_model_module_version": "1.0.0",
            "_model_name": "OutputModel",
            "_view_count": null,
            "_view_module": "@jupyter-widgets/output",
            "_view_module_version": "1.0.0",
            "_view_name": "OutputView",
            "layout": "IPY_MODEL_3a53a6ea1a4d4617aab129ab7abe8f12",
            "msg_id": "",
            "outputs": [
              {
                "data": {
                  "image/png": "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\n",
                  "text/plain": "<Figure size 432x288 with 1 Axes>"
                },
                "metadata": {},
                "output_type": "display_data"
              }
            ]
          }
        },
        "a20b4d1584324d839976f5b873c12e9d": {
          "model_module": "@jupyter-widgets/controls",
          "model_module_version": "1.5.0",
          "model_name": "IntSliderModel",
          "state": {
            "_dom_classes": [],
            "_model_module": "@jupyter-widgets/controls",
            "_model_module_version": "1.5.0",
            "_model_name": "IntSliderModel",
            "_view_count": null,
            "_view_module": "@jupyter-widgets/controls",
            "_view_module_version": "1.5.0",
            "_view_name": "IntSliderView",
            "continuous_update": true,
            "description": "N",
            "description_tooltip": null,
            "disabled": false,
            "layout": "IPY_MODEL_50c91c80efe34e6f92104a30a5534283",
            "max": 50,
            "min": 0,
            "orientation": "horizontal",
            "readout": true,
            "readout_format": "d",
            "step": 1,
            "style": "IPY_MODEL_5e9d20a7a3f64a099469f240ab03e9e3",
            "value": 10
          }
        },
        "a66a1aec49334a719734bfefbd3280ec": {
          "model_module": "@jupyter-widgets/base",
          "model_module_version": "1.2.0",
          "model_name": "LayoutModel",
          "state": {
            "_model_module": "@jupyter-widgets/base",
            "_model_module_version": "1.2.0",
            "_model_name": "LayoutModel",
            "_view_count": null,
            "_view_module": "@jupyter-widgets/base",
            "_view_module_version": "1.2.0",
            "_view_name": "LayoutView",
            "align_content": null,
            "align_items": null,
            "align_self": null,
            "border": null,
            "bottom": null,
            "display": null,
            "flex": null,
            "flex_flow": null,
            "grid_area": null,
            "grid_auto_columns": null,
            "grid_auto_flow": null,
            "grid_auto_rows": null,
            "grid_column": null,
            "grid_gap": null,
            "grid_row": null,
            "grid_template_areas": null,
            "grid_template_columns": null,
            "grid_template_rows": null,
            "height": null,
            "justify_content": null,
            "justify_items": null,
            "left": null,
            "margin": null,
            "max_height": null,
            "max_width": null,
            "min_height": null,
            "min_width": null,
            "object_fit": null,
            "object_position": null,
            "order": null,
            "overflow": null,
            "overflow_x": null,
            "overflow_y": null,
            "padding": null,
            "right": null,
            "top": null,
            "visibility": null,
            "width": null
          }
        },
        "a6774f5516ad49169b944ed54ae2cce1": {
          "model_module": "@jupyter-widgets/controls",
          "model_module_version": "1.5.0",
          "model_name": "FloatSliderModel",
          "state": {
            "_dom_classes": [],
            "_model_module": "@jupyter-widgets/controls",
            "_model_module_version": "1.5.0",
            "_model_name": "FloatSliderModel",
            "_view_count": null,
            "_view_module": "@jupyter-widgets/controls",
            "_view_module_version": "1.5.0",
            "_view_name": "FloatSliderView",
            "continuous_update": true,
            "description": "R0",
            "description_tooltip": null,
            "disabled": false,
            "layout": "IPY_MODEL_4f8e2a2646f04a78a4b8038c68a2b081",
            "max": 12,
            "min": -4,
            "orientation": "horizontal",
            "readout": true,
            "readout_format": ".2f",
            "step": 0.1,
            "style": "IPY_MODEL_5a0d56b80566442b93d48853f4357452",
            "value": 4
          }
        },
        "b1f1dbcdb67747abb29275668c73c27d": {
          "model_module": "@jupyter-widgets/controls",
          "model_module_version": "1.5.0",
          "model_name": "SliderStyleModel",
          "state": {
            "_model_module": "@jupyter-widgets/controls",
            "_model_module_version": "1.5.0",
            "_model_name": "SliderStyleModel",
            "_view_count": null,
            "_view_module": "@jupyter-widgets/base",
            "_view_module_version": "1.2.0",
            "_view_name": "StyleView",
            "description_width": "",
            "handle_color": null
          }
        },
        "be3b624b6a164b14887daeceb33a3847": {
          "model_module": "@jupyter-widgets/controls",
          "model_module_version": "1.5.0",
          "model_name": "SliderStyleModel",
          "state": {
            "_model_module": "@jupyter-widgets/controls",
            "_model_module_version": "1.5.0",
            "_model_name": "SliderStyleModel",
            "_view_count": null,
            "_view_module": "@jupyter-widgets/base",
            "_view_module_version": "1.2.0",
            "_view_name": "StyleView",
            "description_width": "",
            "handle_color": null
          }
        },
        "c0749f40b65546faa0d9679878346975": {
          "model_module": "@jupyter-widgets/controls",
          "model_module_version": "1.5.0",
          "model_name": "SliderStyleModel",
          "state": {
            "_model_module": "@jupyter-widgets/controls",
            "_model_module_version": "1.5.0",
            "_model_name": "SliderStyleModel",
            "_view_count": null,
            "_view_module": "@jupyter-widgets/base",
            "_view_module_version": "1.2.0",
            "_view_name": "StyleView",
            "description_width": "",
            "handle_color": null
          }
        },
        "c32d40263cc64998980e2db0b6f37e38": {
          "model_module": "@jupyter-widgets/base",
          "model_module_version": "1.2.0",
          "model_name": "LayoutModel",
          "state": {
            "_model_module": "@jupyter-widgets/base",
            "_model_module_version": "1.2.0",
            "_model_name": "LayoutModel",
            "_view_count": null,
            "_view_module": "@jupyter-widgets/base",
            "_view_module_version": "1.2.0",
            "_view_name": "LayoutView",
            "align_content": null,
            "align_items": null,
            "align_self": null,
            "border": null,
            "bottom": null,
            "display": null,
            "flex": null,
            "flex_flow": null,
            "grid_area": null,
            "grid_auto_columns": null,
            "grid_auto_flow": null,
            "grid_auto_rows": null,
            "grid_column": null,
            "grid_gap": null,
            "grid_row": null,
            "grid_template_areas": null,
            "grid_template_columns": null,
            "grid_template_rows": null,
            "height": null,
            "justify_content": null,
            "justify_items": null,
            "left": null,
            "margin": null,
            "max_height": null,
            "max_width": null,
            "min_height": null,
            "min_width": null,
            "object_fit": null,
            "object_position": null,
            "order": null,
            "overflow": null,
            "overflow_x": null,
            "overflow_y": null,
            "padding": null,
            "right": null,
            "top": null,
            "visibility": null,
            "width": null
          }
        },
        "c5726e5b3b9f4fa6a3028eebe0fd032b": {
          "model_module": "@jupyter-widgets/controls",
          "model_module_version": "1.5.0",
          "model_name": "SliderStyleModel",
          "state": {
            "_model_module": "@jupyter-widgets/controls",
            "_model_module_version": "1.5.0",
            "_model_name": "SliderStyleModel",
            "_view_count": null,
            "_view_module": "@jupyter-widgets/base",
            "_view_module_version": "1.2.0",
            "_view_name": "StyleView",
            "description_width": "",
            "handle_color": null
          }
        },
        "cacef69bf5ee438a8b758343ca6ed1d8": {
          "model_module": "@jupyter-widgets/controls",
          "model_module_version": "1.5.0",
          "model_name": "SliderStyleModel",
          "state": {
            "_model_module": "@jupyter-widgets/controls",
            "_model_module_version": "1.5.0",
            "_model_name": "SliderStyleModel",
            "_view_count": null,
            "_view_module": "@jupyter-widgets/base",
            "_view_module_version": "1.2.0",
            "_view_name": "StyleView",
            "description_width": "",
            "handle_color": null
          }
        },
        "cd05e9fcaec4443bbcc7ebedbf755230": {
          "model_module": "@jupyter-widgets/controls",
          "model_module_version": "1.5.0",
          "model_name": "SliderStyleModel",
          "state": {
            "_model_module": "@jupyter-widgets/controls",
            "_model_module_version": "1.5.0",
            "_model_name": "SliderStyleModel",
            "_view_count": null,
            "_view_module": "@jupyter-widgets/base",
            "_view_module_version": "1.2.0",
            "_view_name": "StyleView",
            "description_width": "",
            "handle_color": null
          }
        },
        "cf89c5ba7b9d43cd9a4c053b4d42fcf6": {
          "model_module": "@jupyter-widgets/base",
          "model_module_version": "1.2.0",
          "model_name": "LayoutModel",
          "state": {
            "_model_module": "@jupyter-widgets/base",
            "_model_module_version": "1.2.0",
            "_model_name": "LayoutModel",
            "_view_count": null,
            "_view_module": "@jupyter-widgets/base",
            "_view_module_version": "1.2.0",
            "_view_name": "LayoutView",
            "align_content": null,
            "align_items": null,
            "align_self": null,
            "border": null,
            "bottom": null,
            "display": null,
            "flex": null,
            "flex_flow": null,
            "grid_area": null,
            "grid_auto_columns": null,
            "grid_auto_flow": null,
            "grid_auto_rows": null,
            "grid_column": null,
            "grid_gap": null,
            "grid_row": null,
            "grid_template_areas": null,
            "grid_template_columns": null,
            "grid_template_rows": null,
            "height": null,
            "justify_content": null,
            "justify_items": null,
            "left": null,
            "margin": null,
            "max_height": null,
            "max_width": null,
            "min_height": null,
            "min_width": null,
            "object_fit": null,
            "object_position": null,
            "order": null,
            "overflow": null,
            "overflow_x": null,
            "overflow_y": null,
            "padding": null,
            "right": null,
            "top": null,
            "visibility": null,
            "width": null
          }
        },
        "d466584dcec64b2db9388d9824afd9f9": {
          "model_module": "@jupyter-widgets/base",
          "model_module_version": "1.2.0",
          "model_name": "LayoutModel",
          "state": {
            "_model_module": "@jupyter-widgets/base",
            "_model_module_version": "1.2.0",
            "_model_name": "LayoutModel",
            "_view_count": null,
            "_view_module": "@jupyter-widgets/base",
            "_view_module_version": "1.2.0",
            "_view_name": "LayoutView",
            "align_content": null,
            "align_items": null,
            "align_self": null,
            "border": null,
            "bottom": null,
            "display": null,
            "flex": null,
            "flex_flow": null,
            "grid_area": null,
            "grid_auto_columns": null,
            "grid_auto_flow": null,
            "grid_auto_rows": null,
            "grid_column": null,
            "grid_gap": null,
            "grid_row": null,
            "grid_template_areas": null,
            "grid_template_columns": null,
            "grid_template_rows": null,
            "height": null,
            "justify_content": null,
            "justify_items": null,
            "left": null,
            "margin": null,
            "max_height": null,
            "max_width": null,
            "min_height": null,
            "min_width": null,
            "object_fit": null,
            "object_position": null,
            "order": null,
            "overflow": null,
            "overflow_x": null,
            "overflow_y": null,
            "padding": null,
            "right": null,
            "top": null,
            "visibility": null,
            "width": null
          }
        },
        "d50a47527bab4f0cbb0932fa48982460": {
          "model_module": "@jupyter-widgets/base",
          "model_module_version": "1.2.0",
          "model_name": "LayoutModel",
          "state": {
            "_model_module": "@jupyter-widgets/base",
            "_model_module_version": "1.2.0",
            "_model_name": "LayoutModel",
            "_view_count": null,
            "_view_module": "@jupyter-widgets/base",
            "_view_module_version": "1.2.0",
            "_view_name": "LayoutView",
            "align_content": null,
            "align_items": null,
            "align_self": null,
            "border": null,
            "bottom": null,
            "display": null,
            "flex": null,
            "flex_flow": null,
            "grid_area": null,
            "grid_auto_columns": null,
            "grid_auto_flow": null,
            "grid_auto_rows": null,
            "grid_column": null,
            "grid_gap": null,
            "grid_row": null,
            "grid_template_areas": null,
            "grid_template_columns": null,
            "grid_template_rows": null,
            "height": null,
            "justify_content": null,
            "justify_items": null,
            "left": null,
            "margin": null,
            "max_height": null,
            "max_width": null,
            "min_height": null,
            "min_width": null,
            "object_fit": null,
            "object_position": null,
            "order": null,
            "overflow": null,
            "overflow_x": null,
            "overflow_y": null,
            "padding": null,
            "right": null,
            "top": null,
            "visibility": null,
            "width": null
          }
        },
        "d779a8f6578b4ceaa05da0092bff35bd": {
          "model_module": "@jupyter-widgets/base",
          "model_module_version": "1.2.0",
          "model_name": "LayoutModel",
          "state": {
            "_model_module": "@jupyter-widgets/base",
            "_model_module_version": "1.2.0",
            "_model_name": "LayoutModel",
            "_view_count": null,
            "_view_module": "@jupyter-widgets/base",
            "_view_module_version": "1.2.0",
            "_view_name": "LayoutView",
            "align_content": null,
            "align_items": null,
            "align_self": null,
            "border": null,
            "bottom": null,
            "display": null,
            "flex": null,
            "flex_flow": null,
            "grid_area": null,
            "grid_auto_columns": null,
            "grid_auto_flow": null,
            "grid_auto_rows": null,
            "grid_column": null,
            "grid_gap": null,
            "grid_row": null,
            "grid_template_areas": null,
            "grid_template_columns": null,
            "grid_template_rows": null,
            "height": null,
            "justify_content": null,
            "justify_items": null,
            "left": null,
            "margin": null,
            "max_height": null,
            "max_width": null,
            "min_height": null,
            "min_width": null,
            "object_fit": null,
            "object_position": null,
            "order": null,
            "overflow": null,
            "overflow_x": null,
            "overflow_y": null,
            "padding": null,
            "right": null,
            "top": null,
            "visibility": null,
            "width": null
          }
        },
        "db4b106290b44620b89e0df2a6b20cb5": {
          "model_module": "@jupyter-widgets/base",
          "model_module_version": "1.2.0",
          "model_name": "LayoutModel",
          "state": {
            "_model_module": "@jupyter-widgets/base",
            "_model_module_version": "1.2.0",
            "_model_name": "LayoutModel",
            "_view_count": null,
            "_view_module": "@jupyter-widgets/base",
            "_view_module_version": "1.2.0",
            "_view_name": "LayoutView",
            "align_content": null,
            "align_items": null,
            "align_self": null,
            "border": null,
            "bottom": null,
            "display": null,
            "flex": null,
            "flex_flow": null,
            "grid_area": null,
            "grid_auto_columns": null,
            "grid_auto_flow": null,
            "grid_auto_rows": null,
            "grid_column": null,
            "grid_gap": null,
            "grid_row": null,
            "grid_template_areas": null,
            "grid_template_columns": null,
            "grid_template_rows": null,
            "height": null,
            "justify_content": null,
            "justify_items": null,
            "left": null,
            "margin": null,
            "max_height": null,
            "max_width": null,
            "min_height": null,
            "min_width": null,
            "object_fit": null,
            "object_position": null,
            "order": null,
            "overflow": null,
            "overflow_x": null,
            "overflow_y": null,
            "padding": null,
            "right": null,
            "top": null,
            "visibility": null,
            "width": null
          }
        },
        "e513691c952043d2a4e73d66074b24d1": {
          "model_module": "@jupyter-widgets/controls",
          "model_module_version": "1.5.0",
          "model_name": "SliderStyleModel",
          "state": {
            "_model_module": "@jupyter-widgets/controls",
            "_model_module_version": "1.5.0",
            "_model_name": "SliderStyleModel",
            "_view_count": null,
            "_view_module": "@jupyter-widgets/base",
            "_view_module_version": "1.2.0",
            "_view_name": "StyleView",
            "description_width": "",
            "handle_color": null
          }
        },
        "f09f57b162c941efae1dbafb3024f869": {
          "model_module": "@jupyter-widgets/controls",
          "model_module_version": "1.5.0",
          "model_name": "FloatSliderModel",
          "state": {
            "_dom_classes": [],
            "_model_module": "@jupyter-widgets/controls",
            "_model_module_version": "1.5.0",
            "_model_name": "FloatSliderModel",
            "_view_count": null,
            "_view_module": "@jupyter-widgets/controls",
            "_view_module_version": "1.5.0",
            "_view_name": "FloatSliderView",
            "continuous_update": true,
            "description": "sd0",
            "description_tooltip": null,
            "disabled": false,
            "layout": "IPY_MODEL_d50a47527bab4f0cbb0932fa48982460",
            "max": 15,
            "min": -5,
            "orientation": "horizontal",
            "readout": true,
            "readout_format": ".2f",
            "step": 0.1,
            "style": "IPY_MODEL_be3b624b6a164b14887daeceb33a3847",
            "value": 5
          }
        },
        "f44c0a8eb2b943cb8b82a1358649d93c": {
          "model_module": "@jupyter-widgets/controls",
          "model_module_version": "1.5.0",
          "model_name": "FloatSliderModel",
          "state": {
            "_dom_classes": [],
            "_model_module": "@jupyter-widgets/controls",
            "_model_module_version": "1.5.0",
            "_model_name": "FloatSliderModel",
            "_view_count": null,
            "_view_module": "@jupyter-widgets/controls",
            "_view_module_version": "1.5.0",
            "_view_name": "FloatSliderView",
            "continuous_update": true,
            "description": "max_time",
            "description_tooltip": null,
            "disabled": false,
            "layout": "IPY_MODEL_db4b106290b44620b89e0df2a6b20cb5",
            "max": 12,
            "min": -4,
            "orientation": "horizontal",
            "readout": true,
            "readout_format": ".2f",
            "step": 0.1,
            "style": "IPY_MODEL_c0749f40b65546faa0d9679878346975",
            "value": 4
          }
        },
        "f4e7058ea76f401290eb65549313b666": {
          "model_module": "@jupyter-widgets/controls",
          "model_module_version": "1.5.0",
          "model_name": "FloatSliderModel",
          "state": {
            "_dom_classes": [],
            "_model_module": "@jupyter-widgets/controls",
            "_model_module_version": "1.5.0",
            "_model_name": "FloatSliderModel",
            "_view_count": null,
            "_view_module": "@jupyter-widgets/controls",
            "_view_module_version": "1.5.0",
            "_view_name": "FloatSliderView",
            "continuous_update": true,
            "description": "weight_1",
            "description_tooltip": null,
            "disabled": false,
            "layout": "IPY_MODEL_8d16bacfae4e4ae3904da6d84e558645",
            "max": 2,
            "min": -1,
            "orientation": "horizontal",
            "readout": true,
            "readout_format": ".2f",
            "step": 0.001,
            "style": "IPY_MODEL_b1f1dbcdb67747abb29275668c73c27d",
            "value": 0.897
          }
        },
        "ff5da39a9ea64b859c6fcf678438adf3": {
          "model_module": "@jupyter-widgets/controls",
          "model_module_version": "1.5.0",
          "model_name": "SliderStyleModel",
          "state": {
            "_model_module": "@jupyter-widgets/controls",
            "_model_module_version": "1.5.0",
            "_model_name": "SliderStyleModel",
            "_view_count": null,
            "_view_module": "@jupyter-widgets/base",
            "_view_module_version": "1.2.0",
            "_view_name": "StyleView",
            "description_width": "",
            "handle_color": null
          }
        }
      }
    }
  },
  "nbformat": 4,
  "nbformat_minor": 0
}
